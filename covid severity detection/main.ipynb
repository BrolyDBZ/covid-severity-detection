{
 "cells": [
  {
   "cell_type": "code",
   "execution_count": 1,
   "id": "72b8bbfb",
   "metadata": {},
   "outputs": [],
   "source": [
    "import numpy as np\n",
    "import tensorflow as tf\n",
    "import matplotlib.pyplot as plt\n",
    "import nibabel as nib\n",
    "import cv2 as cv\n",
    "import os\n",
    "from IPython.display import Image\n",
    "from tensorflow.keras.applications.resnet import ResNet50\n",
    "from tensorflow.keras.applications.inception_v3 import InceptionV3\n",
    "from tensorflow.keras.layers import Conv2D,Conv2DTranspose,MaxPool2D,Concatenate, Activation, BatchNormalization,concatenate ,Input\n",
    "from tensorflow.keras.models import Model\n",
    "from sklearn.metrics import multilabel_confusion_matrix\n",
    "from model import classification_model,classification_resnet,classification_resnet"
   ]
  },
  {
   "cell_type": "markdown",
   "id": "fa1b5317",
   "metadata": {},
   "source": [
    "# classification training and test result"
   ]
  },
  {
   "cell_type": "code",
   "execution_count": 4,
   "id": "c26750f1",
   "metadata": {},
   "outputs": [],
   "source": [
    "model=classification_model((256,256,3))\n",
    "model2=classification_resnet((256,256,3))"
   ]
  },
  {
   "cell_type": "code",
   "execution_count": null,
   "id": "be5d55f2",
   "metadata": {},
   "outputs": [],
   "source": [
    "# model optimizer and loss \n",
    "model.compile(optimizer='adam',loss=tf.keras.losses.categorical_crossentropy,metrics=['accuracy'])\n",
    "model2.compile(optimizer='adam',loss=tf.keras.losses.categorical_crossentropy,metrics=['accuracy'])"
   ]
  },
  {
   "cell_type": "code",
   "execution_count": null,
   "id": "b2c2d7a0",
   "metadata": {},
   "outputs": [],
   "source": [
    "# data loading\n",
    "x_train=np.load('classification_image.npy')\n",
    "label=np.load(\"classification_label.npy\")"
   ]
  },
  {
   "cell_type": "code",
   "execution_count": null,
   "id": "ba8f647a",
   "metadata": {},
   "outputs": [],
   "source": [
    "# callback=tf.keras.callbacks.EarlyStopping(monitor='loss',patience=3,min_delta=0.001)\n",
    "history=model.fit(x_train,label,batch_size=20,epochs=100,callbacks=[callback])"
   ]
  },
  {
   "cell_type": "code",
   "execution_count": null,
   "id": "0fe51847",
   "metadata": {},
   "outputs": [],
   "source": [
    "# callback=tf.keras.callbacks.EarlyStopping(monitor='loss',patience=3,min_delta=0.001)\n",
    "history2=model2.fit(x_train,label,batch_size=20,epochs=50,callbacks=[callback])"
   ]
  },
  {
   "cell_type": "markdown",
   "id": "5b47abef",
   "metadata": {},
   "source": [
    "**result and plot**"
   ]
  },
  {
   "cell_type": "code",
   "execution_count": null,
   "id": "05efd021",
   "metadata": {},
   "outputs": [],
   "source": [
    "plt.subplot(121)\n",
    "plt.plot(history.history['accuracy'])\n",
    "plt.title(\"model accuracy\")\n",
    "plt.ylabel(\"accuracy\")\n",
    "plt.xlabel(\"epoch\")\n",
    "plt.subplot(122)\n",
    "plt.plot(history.history['loss'])\n",
    "plt.title(\"model loss\")\n",
    "plt.ylabel(\"loss\")\n",
    "plt.xlabel(\"epoch\")\n",
    "plt.show()"
   ]
  },
  {
   "cell_type": "code",
   "execution_count": null,
   "id": "feb8290e",
   "metadata": {},
   "outputs": [],
   "source": [
    "plt.subplot(121)\n",
    "plt.plot(history2.history['accuracy'])\n",
    "plt.title(\"model accuracy\")\n",
    "plt.ylabel(\"accuracy\")\n",
    "plt.xlabel(\"epoch\")\n",
    "plt.subplot(122)\n",
    "plt.plot(history2.history['loss'])\n",
    "plt.title(\"model loss\")\n",
    "plt.ylabel(\"loss\")\n",
    "plt.xlabel(\"epoch\")\n",
    "plt.show()"
   ]
  },
  {
   "cell_type": "code",
   "execution_count": null,
   "id": "bce67d75",
   "metadata": {},
   "outputs": [],
   "source": [
    "y_pred=model(x_train)\n",
    "pred=np.argmax(y_pred,axis=-1)\n",
    "y_pred2=model2(x_train)\n",
    "pred2=np.argmax(y_pred2,axis=-1)\n",
    "label=np.load(\"classification_label.npy\")\n",
    "actual=np.argmax(label,axis=-1)\n",
    "result=multilabel_confusion_matrix(actual,pred)\n",
    "result2=mutilabel_confusion_matrix(actual,pred2)\n",
    "print(result)\n",
    "print(result2)"
   ]
  },
  {
   "cell_type": "markdown",
   "id": "d2d8072e",
   "metadata": {},
   "source": [
    "# Segmentation"
   ]
  },
  {
   "cell_type": "code",
   "execution_count": null,
   "id": "1c79b743",
   "metadata": {},
   "outputs": [],
   "source": [
    "seg_model=segmentation_model((512,512,3))\n",
    "seg_model.summary()"
   ]
  },
  {
   "cell_type": "code",
   "execution_count": null,
   "id": "3f00d700",
   "metadata": {},
   "outputs": [],
   "source": [
    "images=np.load(\"covid-segmentation/images_medseg.npy\").astype(np.float32)\n",
    "mask=np.load(\"covid-segmentation/masks_medseg.npy\").astype(np.float32)"
   ]
  },
  {
   "cell_type": "code",
   "execution_count": null,
   "id": "10f863d7",
   "metadata": {},
   "outputs": [],
   "source": [
    "timage=[]\n",
    "for image in images:\n",
    "    new_image=cv.cvtColor(image,cv.COLOR_GRAY2RGB)\n",
    "    timage.append(new_image)\n",
    "timages=np.array(timage)\n",
    "fimages=cv.normalize(timages,None,0,255,cv.NORM_MINMAX,cv.CV_32F).astype(np.int8)"
   ]
  },
  {
   "cell_type": "code",
   "execution_count": null,
   "id": "34b0eb0f",
   "metadata": {},
   "outputs": [],
   "source": [
    "seg_model.compile(optimizer=tf.optimizers.RMSprop(learning_rate=0.14),loss='binary_crossentropy',metrics=[tf.keras.metrics.MeanIoU(num_classes=4)])\n",
    "checkpoint_dir = './training_checkpoints_new'\n",
    "checkpoint_prefix = os.path.join(checkpoint_dir, \"my_ckpt\")\n",
    "callback2=tf.keras.callbacks.ModelCheckpoint(monitor=\"loss\",filepath=checkpoint_prefix,save_weights_only=True)"
   ]
  },
  {
   "cell_type": "code",
   "execution_count": null,
   "id": "e99bc0d2",
   "metadata": {},
   "outputs": [],
   "source": [
    "seg_history=seg_model.fit(fimages,mask,batch_size=1,epochs=100,verbose=1,callbacks=[callback2])"
   ]
  },
  {
   "cell_type": "code",
   "execution_count": null,
   "id": "43a18a6e",
   "metadata": {},
   "outputs": [],
   "source": [
    "plt.subplot(121)\n",
    "plt.plot(seg_history.history['mean_io_u'])\n",
    "plt.title(\"mean io_u\")\n",
    "plt.ylabel(\"accuracy\")\n",
    "plt.xlabel(\"epoch\")\n",
    "plt.subplot(122)\n",
    "plt.plot(seg_history.history['loss'])\n",
    "plt.title(\"loss\")\n",
    "plt.ylabel(\"loss\")\n",
    "plt.xlabel(\"epoch\")\n",
    "plt.savefig('output.jpg')\n",
    "plt.show()"
   ]
  },
  {
   "cell_type": "code",
   "execution_count": null,
   "id": "f7167168",
   "metadata": {},
   "outputs": [],
   "source": [
    "checkpoint_dir = './training_checkpoints_new/'\n",
    "checkpoint_prefix = os.path.join(checkpoint_dir, \"my_ckpt\")\n",
    "seg_model.load_weights(checkpoint_prefix)"
   ]
  },
  {
   "cell_type": "markdown",
   "id": "dbf9eb7c",
   "metadata": {},
   "source": [
    "**spreading of disease and dice coffiecient**"
   ]
  },
  {
   "cell_type": "code",
   "execution_count": null,
   "id": "40ac4610",
   "metadata": {},
   "outputs": [],
   "source": [
    "def spreading(image):\n",
    "    carry=np.unique(image,return_counts=True)\n",
    "    dict={0:0,1:0,2:0,3:0}\n",
    "    for i in range(len(carry[0])):\n",
    "        dict[carry[0][i]]=carry[1][i]\n",
    "    return dict[0]*100/(dict[1]+dict[0]+dict[2])\n",
    "\n",
    "def dice(im1, im2):\n",
    "    im1 = np.asarray(im1).astype(np.bool)\n",
    "    im2 = np.asarray(im2).astype(np.bool)\n",
    "\n",
    "    if im1.shape != im2.shape:\n",
    "        raise ValueError(\"Shape mismatch: im1 and im2 must have the same shape.\")\n",
    "\n",
    "    # Compute Dice coefficient\n",
    "    intersection = np.logical_and(im1, im2)\n",
    "\n",
    "    return 2. * intersection.sum() / (im1.sum() + im2.sum())"
   ]
  }
 ],
 "metadata": {
  "kernelspec": {
   "display_name": "Python 3 (ipykernel)",
   "language": "python",
   "name": "python3"
  },
  "language_info": {
   "codemirror_mode": {
    "name": "ipython",
    "version": 3
   },
   "file_extension": ".py",
   "mimetype": "text/x-python",
   "name": "python",
   "nbconvert_exporter": "python",
   "pygments_lexer": "ipython3",
   "version": "3.9.1"
  }
 },
 "nbformat": 4,
 "nbformat_minor": 5
}
