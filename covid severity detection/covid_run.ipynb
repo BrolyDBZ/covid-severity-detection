{
  "cells": [
    {
      "cell_type": "code",
      "execution_count": 1,
      "id": "74691aea",
      "metadata": {
        "id": "74691aea"
      },
      "outputs": [],
      "source": [
        "import numpy as np\n",
        "import tensorflow as tf\n",
        "import matplotlib.pyplot as plt\n",
        "import nibabel as nib\n",
        "import cv2 as cv\n",
        "import os\n",
        "from IPython.display import Image\n",
        "from tensorflow.keras.applications.resnet import ResNet50\n",
        "from tensorflow.keras.applications.inception_v3 import InceptionV3\n",
        "from tensorflow.keras.layers import Conv2D,Conv2DTranspose,MaxPool2D,Concatenate, Activation, BatchNormalization,concatenate ,Input\n",
        "from tensorflow.keras.models import Model\n",
        "from sklearn.metrics import multilabel_confusion_matrix\n",
        "from sklearn.metrics import classification_report\n",
        "import skimage.transform as st"
      ]
    },
    {
      "cell_type": "code",
      "source": [
        "from google.colab import drive\n",
        "drive.mount('/content/drive')"
      ],
      "metadata": {
        "colab": {
          "base_uri": "https://localhost:8080/"
        },
        "id": "WvBKW-GcqXrA",
        "outputId": "1ac2bd3c-a1e9-4f88-c976-4af66faa162e"
      },
      "id": "WvBKW-GcqXrA",
      "execution_count": 2,
      "outputs": [
        {
          "output_type": "stream",
          "name": "stdout",
          "text": [
            "Mounted at /content/drive\n"
          ]
        }
      ]
    },
    {
      "cell_type": "markdown",
      "id": "99dbc393",
      "metadata": {
        "id": "99dbc393"
      },
      "source": [
        "# Model"
      ]
    },
    {
      "cell_type": "code",
      "execution_count": 3,
      "id": "05b3821e",
      "metadata": {
        "id": "05b3821e"
      },
      "outputs": [],
      "source": [
        "\n",
        "def conv_block(input,num_filter):\n",
        "    x=Conv2D(filters=num_filter,kernel_size=3,padding=\"same\")(input)\n",
        "    x=BatchNormalization()(x)\n",
        "    x=Activation(\"relu\")(x)\n",
        "    \n",
        "    x=Conv2D(filters=num_filter,kernel_size=3,padding=\"same\")(x)\n",
        "    x=BatchNormalization()(x)\n",
        "    x=Activation(\"relu\")(x)\n",
        "    return x\n",
        "\n",
        "def decoder(input,skip_feature,num_filter):\n",
        "    x=Conv2DTranspose(filters=num_filter,kernel_size=2,strides=2,padding=\"same\")(input)\n",
        "    x=concatenate([x,skip_feature])\n",
        "    x=conv_block(x,num_filter)\n",
        "    return x\n",
        "\n",
        "\n",
        "def segmentation_model(input_shape):\n",
        "    inputs=Input(shape=input_shape,name=\"input\")\n",
        "    res=ResNet50(include_top=False,weights=\"imagenet\",input_tensor=inputs)\n",
        "    res.trainable=False\n",
        "    s1=res.get_layer(\"input\").output\n",
        "    s2=res.get_layer(\"conv1_relu\").output\n",
        "    s3=res.get_layer(\"conv2_block3_out\").output\n",
        "    s4=res.get_layer(\"conv3_block4_out\").output\n",
        "    \n",
        "    \n",
        "    feature=res.get_layer(\"conv4_block6_out\").output\n",
        "    \n",
        "    d1=decoder(feature,s4,512)\n",
        "    d2=decoder(d1,s3,256)\n",
        "    d3=decoder(d2,s2,128)\n",
        "    d4=decoder(d3,s1,64)\n",
        "    \n",
        "    outputs=Conv2D(4,(1,1),padding=\"same\",activation=\"softmax\")(d4)\n",
        "    model=Model(inputs,outputs,name=\"Unet_res\")\n",
        "    return model\n",
        "\n",
        "def classification_model(input_shape):\n",
        "    inputs=Input(shape=input_shape,name=\"input\")\n",
        "    googlenet=InceptionV3(include_top=False,weights=\"imagenet\",input_tensor=inputs)\n",
        "    googlenet.trainable=False\n",
        "    feature=googlenet.get_layer(\"mixed8\").output\n",
        "    flattern=tf.keras.layers.Flatten()(feature)\n",
        "    flattern=tf.keras.layers.Dropout(0.3)(flattern)\n",
        "    Dense1=tf.keras.layers.Dense(128,activation='relu')(flattern)\n",
        "    outputs=tf.keras.layers.Dense(4,activation=\"softmax\")(Dense1)\n",
        "    model=Model(inputs,outputs,name=\"classfication_inc\")\n",
        "    return model\n",
        "\n",
        "def classification_resnet(input_shape):\n",
        "    inputs=Input(shape=input_shape,name=\"input\")\n",
        "    res=ResNet50(include_top=False,weights=\"imagenet\",input_tensor=inputs)\n",
        "    res.trainable=False\n",
        "    Feature=res.get_layer(\"conv4_block6_out\").output   \n",
        "    flattern=tf.keras.layers.Flatten()(Feature)\n",
        "    flattern=tf.keras.layers.Dropout(0.3)(flattern)\n",
        "    Dense1=tf.keras.layers.Dense(128,activation='relu')(flattern)\n",
        "    outputs=tf.keras.layers.Dense(4,activation=\"softmax\")(Dense1)\n",
        "    model=Model(inputs,outputs,name=\"classfication_inc\")\n",
        "    return model"
      ]
    },
    {
      "cell_type": "code",
      "source": [
        ""
      ],
      "metadata": {
        "id": "uPlzQM__nGLe"
      },
      "id": "uPlzQM__nGLe",
      "execution_count": null,
      "outputs": []
    },
    {
      "cell_type": "markdown",
      "id": "c3e02ebd",
      "metadata": {
        "id": "c3e02ebd"
      },
      "source": [
        "# classification"
      ]
    },
    {
      "cell_type": "code",
      "execution_count": 4,
      "id": "abb7a770",
      "metadata": {
        "id": "abb7a770",
        "outputId": "4bbce068-4979-4a54-e3c7-c5d74f60650f",
        "colab": {
          "base_uri": "https://localhost:8080/"
        }
      },
      "outputs": [
        {
          "output_type": "stream",
          "name": "stdout",
          "text": [
            "Downloading data from https://storage.googleapis.com/tensorflow/keras-applications/inception_v3/inception_v3_weights_tf_dim_ordering_tf_kernels_notop.h5\n",
            "87916544/87910968 [==============================] - 1s 0us/step\n",
            "87924736/87910968 [==============================] - 1s 0us/step\n",
            "Model: \"classfication_inc\"\n",
            "__________________________________________________________________________________________________\n",
            " Layer (type)                   Output Shape         Param #     Connected to                     \n",
            "==================================================================================================\n",
            " input (InputLayer)             [(None, 256, 256, 3  0           []                               \n",
            "                                )]                                                                \n",
            "                                                                                                  \n",
            " conv2d (Conv2D)                (None, 127, 127, 32  864         ['input[0][0]']                  \n",
            "                                )                                                                 \n",
            "                                                                                                  \n",
            " batch_normalization (BatchNorm  (None, 127, 127, 32  96         ['conv2d[0][0]']                 \n",
            " alization)                     )                                                                 \n",
            "                                                                                                  \n",
            " activation (Activation)        (None, 127, 127, 32  0           ['batch_normalization[0][0]']    \n",
            "                                )                                                                 \n",
            "                                                                                                  \n",
            " conv2d_1 (Conv2D)              (None, 125, 125, 32  9216        ['activation[0][0]']             \n",
            "                                )                                                                 \n",
            "                                                                                                  \n",
            " batch_normalization_1 (BatchNo  (None, 125, 125, 32  96         ['conv2d_1[0][0]']               \n",
            " rmalization)                   )                                                                 \n",
            "                                                                                                  \n",
            " activation_1 (Activation)      (None, 125, 125, 32  0           ['batch_normalization_1[0][0]']  \n",
            "                                )                                                                 \n",
            "                                                                                                  \n",
            " conv2d_2 (Conv2D)              (None, 125, 125, 64  18432       ['activation_1[0][0]']           \n",
            "                                )                                                                 \n",
            "                                                                                                  \n",
            " batch_normalization_2 (BatchNo  (None, 125, 125, 64  192        ['conv2d_2[0][0]']               \n",
            " rmalization)                   )                                                                 \n",
            "                                                                                                  \n",
            " activation_2 (Activation)      (None, 125, 125, 64  0           ['batch_normalization_2[0][0]']  \n",
            "                                )                                                                 \n",
            "                                                                                                  \n",
            " max_pooling2d (MaxPooling2D)   (None, 62, 62, 64)   0           ['activation_2[0][0]']           \n",
            "                                                                                                  \n",
            " conv2d_3 (Conv2D)              (None, 62, 62, 80)   5120        ['max_pooling2d[0][0]']          \n",
            "                                                                                                  \n",
            " batch_normalization_3 (BatchNo  (None, 62, 62, 80)  240         ['conv2d_3[0][0]']               \n",
            " rmalization)                                                                                     \n",
            "                                                                                                  \n",
            " activation_3 (Activation)      (None, 62, 62, 80)   0           ['batch_normalization_3[0][0]']  \n",
            "                                                                                                  \n",
            " conv2d_4 (Conv2D)              (None, 60, 60, 192)  138240      ['activation_3[0][0]']           \n",
            "                                                                                                  \n",
            " batch_normalization_4 (BatchNo  (None, 60, 60, 192)  576        ['conv2d_4[0][0]']               \n",
            " rmalization)                                                                                     \n",
            "                                                                                                  \n",
            " activation_4 (Activation)      (None, 60, 60, 192)  0           ['batch_normalization_4[0][0]']  \n",
            "                                                                                                  \n",
            " max_pooling2d_1 (MaxPooling2D)  (None, 29, 29, 192)  0          ['activation_4[0][0]']           \n",
            "                                                                                                  \n",
            " conv2d_8 (Conv2D)              (None, 29, 29, 64)   12288       ['max_pooling2d_1[0][0]']        \n",
            "                                                                                                  \n",
            " batch_normalization_8 (BatchNo  (None, 29, 29, 64)  192         ['conv2d_8[0][0]']               \n",
            " rmalization)                                                                                     \n",
            "                                                                                                  \n",
            " activation_8 (Activation)      (None, 29, 29, 64)   0           ['batch_normalization_8[0][0]']  \n",
            "                                                                                                  \n",
            " conv2d_6 (Conv2D)              (None, 29, 29, 48)   9216        ['max_pooling2d_1[0][0]']        \n",
            "                                                                                                  \n",
            " conv2d_9 (Conv2D)              (None, 29, 29, 96)   55296       ['activation_8[0][0]']           \n",
            "                                                                                                  \n",
            " batch_normalization_6 (BatchNo  (None, 29, 29, 48)  144         ['conv2d_6[0][0]']               \n",
            " rmalization)                                                                                     \n",
            "                                                                                                  \n",
            " batch_normalization_9 (BatchNo  (None, 29, 29, 96)  288         ['conv2d_9[0][0]']               \n",
            " rmalization)                                                                                     \n",
            "                                                                                                  \n",
            " activation_6 (Activation)      (None, 29, 29, 48)   0           ['batch_normalization_6[0][0]']  \n",
            "                                                                                                  \n",
            " activation_9 (Activation)      (None, 29, 29, 96)   0           ['batch_normalization_9[0][0]']  \n",
            "                                                                                                  \n",
            " average_pooling2d (AveragePool  (None, 29, 29, 192)  0          ['max_pooling2d_1[0][0]']        \n",
            " ing2D)                                                                                           \n",
            "                                                                                                  \n",
            " conv2d_5 (Conv2D)              (None, 29, 29, 64)   12288       ['max_pooling2d_1[0][0]']        \n",
            "                                                                                                  \n",
            " conv2d_7 (Conv2D)              (None, 29, 29, 64)   76800       ['activation_6[0][0]']           \n",
            "                                                                                                  \n",
            " conv2d_10 (Conv2D)             (None, 29, 29, 96)   82944       ['activation_9[0][0]']           \n",
            "                                                                                                  \n",
            " conv2d_11 (Conv2D)             (None, 29, 29, 32)   6144        ['average_pooling2d[0][0]']      \n",
            "                                                                                                  \n",
            " batch_normalization_5 (BatchNo  (None, 29, 29, 64)  192         ['conv2d_5[0][0]']               \n",
            " rmalization)                                                                                     \n",
            "                                                                                                  \n",
            " batch_normalization_7 (BatchNo  (None, 29, 29, 64)  192         ['conv2d_7[0][0]']               \n",
            " rmalization)                                                                                     \n",
            "                                                                                                  \n",
            " batch_normalization_10 (BatchN  (None, 29, 29, 96)  288         ['conv2d_10[0][0]']              \n",
            " ormalization)                                                                                    \n",
            "                                                                                                  \n",
            " batch_normalization_11 (BatchN  (None, 29, 29, 32)  96          ['conv2d_11[0][0]']              \n",
            " ormalization)                                                                                    \n",
            "                                                                                                  \n",
            " activation_5 (Activation)      (None, 29, 29, 64)   0           ['batch_normalization_5[0][0]']  \n",
            "                                                                                                  \n",
            " activation_7 (Activation)      (None, 29, 29, 64)   0           ['batch_normalization_7[0][0]']  \n",
            "                                                                                                  \n",
            " activation_10 (Activation)     (None, 29, 29, 96)   0           ['batch_normalization_10[0][0]'] \n",
            "                                                                                                  \n",
            " activation_11 (Activation)     (None, 29, 29, 32)   0           ['batch_normalization_11[0][0]'] \n",
            "                                                                                                  \n",
            " mixed0 (Concatenate)           (None, 29, 29, 256)  0           ['activation_5[0][0]',           \n",
            "                                                                  'activation_7[0][0]',           \n",
            "                                                                  'activation_10[0][0]',          \n",
            "                                                                  'activation_11[0][0]']          \n",
            "                                                                                                  \n",
            " conv2d_15 (Conv2D)             (None, 29, 29, 64)   16384       ['mixed0[0][0]']                 \n",
            "                                                                                                  \n",
            " batch_normalization_15 (BatchN  (None, 29, 29, 64)  192         ['conv2d_15[0][0]']              \n",
            " ormalization)                                                                                    \n",
            "                                                                                                  \n",
            " activation_15 (Activation)     (None, 29, 29, 64)   0           ['batch_normalization_15[0][0]'] \n",
            "                                                                                                  \n",
            " conv2d_13 (Conv2D)             (None, 29, 29, 48)   12288       ['mixed0[0][0]']                 \n",
            "                                                                                                  \n",
            " conv2d_16 (Conv2D)             (None, 29, 29, 96)   55296       ['activation_15[0][0]']          \n",
            "                                                                                                  \n",
            " batch_normalization_13 (BatchN  (None, 29, 29, 48)  144         ['conv2d_13[0][0]']              \n",
            " ormalization)                                                                                    \n",
            "                                                                                                  \n",
            " batch_normalization_16 (BatchN  (None, 29, 29, 96)  288         ['conv2d_16[0][0]']              \n",
            " ormalization)                                                                                    \n",
            "                                                                                                  \n",
            " activation_13 (Activation)     (None, 29, 29, 48)   0           ['batch_normalization_13[0][0]'] \n",
            "                                                                                                  \n",
            " activation_16 (Activation)     (None, 29, 29, 96)   0           ['batch_normalization_16[0][0]'] \n",
            "                                                                                                  \n",
            " average_pooling2d_1 (AveragePo  (None, 29, 29, 256)  0          ['mixed0[0][0]']                 \n",
            " oling2D)                                                                                         \n",
            "                                                                                                  \n",
            " conv2d_12 (Conv2D)             (None, 29, 29, 64)   16384       ['mixed0[0][0]']                 \n",
            "                                                                                                  \n",
            " conv2d_14 (Conv2D)             (None, 29, 29, 64)   76800       ['activation_13[0][0]']          \n",
            "                                                                                                  \n",
            " conv2d_17 (Conv2D)             (None, 29, 29, 96)   82944       ['activation_16[0][0]']          \n",
            "                                                                                                  \n",
            " conv2d_18 (Conv2D)             (None, 29, 29, 64)   16384       ['average_pooling2d_1[0][0]']    \n",
            "                                                                                                  \n",
            " batch_normalization_12 (BatchN  (None, 29, 29, 64)  192         ['conv2d_12[0][0]']              \n",
            " ormalization)                                                                                    \n",
            "                                                                                                  \n",
            " batch_normalization_14 (BatchN  (None, 29, 29, 64)  192         ['conv2d_14[0][0]']              \n",
            " ormalization)                                                                                    \n",
            "                                                                                                  \n",
            " batch_normalization_17 (BatchN  (None, 29, 29, 96)  288         ['conv2d_17[0][0]']              \n",
            " ormalization)                                                                                    \n",
            "                                                                                                  \n",
            " batch_normalization_18 (BatchN  (None, 29, 29, 64)  192         ['conv2d_18[0][0]']              \n",
            " ormalization)                                                                                    \n",
            "                                                                                                  \n",
            " activation_12 (Activation)     (None, 29, 29, 64)   0           ['batch_normalization_12[0][0]'] \n",
            "                                                                                                  \n",
            " activation_14 (Activation)     (None, 29, 29, 64)   0           ['batch_normalization_14[0][0]'] \n",
            "                                                                                                  \n",
            " activation_17 (Activation)     (None, 29, 29, 96)   0           ['batch_normalization_17[0][0]'] \n",
            "                                                                                                  \n",
            " activation_18 (Activation)     (None, 29, 29, 64)   0           ['batch_normalization_18[0][0]'] \n",
            "                                                                                                  \n",
            " mixed1 (Concatenate)           (None, 29, 29, 288)  0           ['activation_12[0][0]',          \n",
            "                                                                  'activation_14[0][0]',          \n",
            "                                                                  'activation_17[0][0]',          \n",
            "                                                                  'activation_18[0][0]']          \n",
            "                                                                                                  \n",
            " conv2d_22 (Conv2D)             (None, 29, 29, 64)   18432       ['mixed1[0][0]']                 \n",
            "                                                                                                  \n",
            " batch_normalization_22 (BatchN  (None, 29, 29, 64)  192         ['conv2d_22[0][0]']              \n",
            " ormalization)                                                                                    \n",
            "                                                                                                  \n",
            " activation_22 (Activation)     (None, 29, 29, 64)   0           ['batch_normalization_22[0][0]'] \n",
            "                                                                                                  \n",
            " conv2d_20 (Conv2D)             (None, 29, 29, 48)   13824       ['mixed1[0][0]']                 \n",
            "                                                                                                  \n",
            " conv2d_23 (Conv2D)             (None, 29, 29, 96)   55296       ['activation_22[0][0]']          \n",
            "                                                                                                  \n",
            " batch_normalization_20 (BatchN  (None, 29, 29, 48)  144         ['conv2d_20[0][0]']              \n",
            " ormalization)                                                                                    \n",
            "                                                                                                  \n",
            " batch_normalization_23 (BatchN  (None, 29, 29, 96)  288         ['conv2d_23[0][0]']              \n",
            " ormalization)                                                                                    \n",
            "                                                                                                  \n",
            " activation_20 (Activation)     (None, 29, 29, 48)   0           ['batch_normalization_20[0][0]'] \n",
            "                                                                                                  \n",
            " activation_23 (Activation)     (None, 29, 29, 96)   0           ['batch_normalization_23[0][0]'] \n",
            "                                                                                                  \n",
            " average_pooling2d_2 (AveragePo  (None, 29, 29, 288)  0          ['mixed1[0][0]']                 \n",
            " oling2D)                                                                                         \n",
            "                                                                                                  \n",
            " conv2d_19 (Conv2D)             (None, 29, 29, 64)   18432       ['mixed1[0][0]']                 \n",
            "                                                                                                  \n",
            " conv2d_21 (Conv2D)             (None, 29, 29, 64)   76800       ['activation_20[0][0]']          \n",
            "                                                                                                  \n",
            " conv2d_24 (Conv2D)             (None, 29, 29, 96)   82944       ['activation_23[0][0]']          \n",
            "                                                                                                  \n",
            " conv2d_25 (Conv2D)             (None, 29, 29, 64)   18432       ['average_pooling2d_2[0][0]']    \n",
            "                                                                                                  \n",
            " batch_normalization_19 (BatchN  (None, 29, 29, 64)  192         ['conv2d_19[0][0]']              \n",
            " ormalization)                                                                                    \n",
            "                                                                                                  \n",
            " batch_normalization_21 (BatchN  (None, 29, 29, 64)  192         ['conv2d_21[0][0]']              \n",
            " ormalization)                                                                                    \n",
            "                                                                                                  \n",
            " batch_normalization_24 (BatchN  (None, 29, 29, 96)  288         ['conv2d_24[0][0]']              \n",
            " ormalization)                                                                                    \n",
            "                                                                                                  \n",
            " batch_normalization_25 (BatchN  (None, 29, 29, 64)  192         ['conv2d_25[0][0]']              \n",
            " ormalization)                                                                                    \n",
            "                                                                                                  \n",
            " activation_19 (Activation)     (None, 29, 29, 64)   0           ['batch_normalization_19[0][0]'] \n",
            "                                                                                                  \n",
            " activation_21 (Activation)     (None, 29, 29, 64)   0           ['batch_normalization_21[0][0]'] \n",
            "                                                                                                  \n",
            " activation_24 (Activation)     (None, 29, 29, 96)   0           ['batch_normalization_24[0][0]'] \n",
            "                                                                                                  \n",
            " activation_25 (Activation)     (None, 29, 29, 64)   0           ['batch_normalization_25[0][0]'] \n",
            "                                                                                                  \n",
            " mixed2 (Concatenate)           (None, 29, 29, 288)  0           ['activation_19[0][0]',          \n",
            "                                                                  'activation_21[0][0]',          \n",
            "                                                                  'activation_24[0][0]',          \n",
            "                                                                  'activation_25[0][0]']          \n",
            "                                                                                                  \n",
            " conv2d_27 (Conv2D)             (None, 29, 29, 64)   18432       ['mixed2[0][0]']                 \n",
            "                                                                                                  \n",
            " batch_normalization_27 (BatchN  (None, 29, 29, 64)  192         ['conv2d_27[0][0]']              \n",
            " ormalization)                                                                                    \n",
            "                                                                                                  \n",
            " activation_27 (Activation)     (None, 29, 29, 64)   0           ['batch_normalization_27[0][0]'] \n",
            "                                                                                                  \n",
            " conv2d_28 (Conv2D)             (None, 29, 29, 96)   55296       ['activation_27[0][0]']          \n",
            "                                                                                                  \n",
            " batch_normalization_28 (BatchN  (None, 29, 29, 96)  288         ['conv2d_28[0][0]']              \n",
            " ormalization)                                                                                    \n",
            "                                                                                                  \n",
            " activation_28 (Activation)     (None, 29, 29, 96)   0           ['batch_normalization_28[0][0]'] \n",
            "                                                                                                  \n",
            " conv2d_26 (Conv2D)             (None, 14, 14, 384)  995328      ['mixed2[0][0]']                 \n",
            "                                                                                                  \n",
            " conv2d_29 (Conv2D)             (None, 14, 14, 96)   82944       ['activation_28[0][0]']          \n",
            "                                                                                                  \n",
            " batch_normalization_26 (BatchN  (None, 14, 14, 384)  1152       ['conv2d_26[0][0]']              \n",
            " ormalization)                                                                                    \n",
            "                                                                                                  \n",
            " batch_normalization_29 (BatchN  (None, 14, 14, 96)  288         ['conv2d_29[0][0]']              \n",
            " ormalization)                                                                                    \n",
            "                                                                                                  \n",
            " activation_26 (Activation)     (None, 14, 14, 384)  0           ['batch_normalization_26[0][0]'] \n",
            "                                                                                                  \n",
            " activation_29 (Activation)     (None, 14, 14, 96)   0           ['batch_normalization_29[0][0]'] \n",
            "                                                                                                  \n",
            " max_pooling2d_2 (MaxPooling2D)  (None, 14, 14, 288)  0          ['mixed2[0][0]']                 \n",
            "                                                                                                  \n",
            " mixed3 (Concatenate)           (None, 14, 14, 768)  0           ['activation_26[0][0]',          \n",
            "                                                                  'activation_29[0][0]',          \n",
            "                                                                  'max_pooling2d_2[0][0]']        \n",
            "                                                                                                  \n",
            " conv2d_34 (Conv2D)             (None, 14, 14, 128)  98304       ['mixed3[0][0]']                 \n",
            "                                                                                                  \n",
            " batch_normalization_34 (BatchN  (None, 14, 14, 128)  384        ['conv2d_34[0][0]']              \n",
            " ormalization)                                                                                    \n",
            "                                                                                                  \n",
            " activation_34 (Activation)     (None, 14, 14, 128)  0           ['batch_normalization_34[0][0]'] \n",
            "                                                                                                  \n",
            " conv2d_35 (Conv2D)             (None, 14, 14, 128)  114688      ['activation_34[0][0]']          \n",
            "                                                                                                  \n",
            " batch_normalization_35 (BatchN  (None, 14, 14, 128)  384        ['conv2d_35[0][0]']              \n",
            " ormalization)                                                                                    \n",
            "                                                                                                  \n",
            " activation_35 (Activation)     (None, 14, 14, 128)  0           ['batch_normalization_35[0][0]'] \n",
            "                                                                                                  \n",
            " conv2d_31 (Conv2D)             (None, 14, 14, 128)  98304       ['mixed3[0][0]']                 \n",
            "                                                                                                  \n",
            " conv2d_36 (Conv2D)             (None, 14, 14, 128)  114688      ['activation_35[0][0]']          \n",
            "                                                                                                  \n",
            " batch_normalization_31 (BatchN  (None, 14, 14, 128)  384        ['conv2d_31[0][0]']              \n",
            " ormalization)                                                                                    \n",
            "                                                                                                  \n",
            " batch_normalization_36 (BatchN  (None, 14, 14, 128)  384        ['conv2d_36[0][0]']              \n",
            " ormalization)                                                                                    \n",
            "                                                                                                  \n",
            " activation_31 (Activation)     (None, 14, 14, 128)  0           ['batch_normalization_31[0][0]'] \n",
            "                                                                                                  \n",
            " activation_36 (Activation)     (None, 14, 14, 128)  0           ['batch_normalization_36[0][0]'] \n",
            "                                                                                                  \n",
            " conv2d_32 (Conv2D)             (None, 14, 14, 128)  114688      ['activation_31[0][0]']          \n",
            "                                                                                                  \n",
            " conv2d_37 (Conv2D)             (None, 14, 14, 128)  114688      ['activation_36[0][0]']          \n",
            "                                                                                                  \n",
            " batch_normalization_32 (BatchN  (None, 14, 14, 128)  384        ['conv2d_32[0][0]']              \n",
            " ormalization)                                                                                    \n",
            "                                                                                                  \n",
            " batch_normalization_37 (BatchN  (None, 14, 14, 128)  384        ['conv2d_37[0][0]']              \n",
            " ormalization)                                                                                    \n",
            "                                                                                                  \n",
            " activation_32 (Activation)     (None, 14, 14, 128)  0           ['batch_normalization_32[0][0]'] \n",
            "                                                                                                  \n",
            " activation_37 (Activation)     (None, 14, 14, 128)  0           ['batch_normalization_37[0][0]'] \n",
            "                                                                                                  \n",
            " average_pooling2d_3 (AveragePo  (None, 14, 14, 768)  0          ['mixed3[0][0]']                 \n",
            " oling2D)                                                                                         \n",
            "                                                                                                  \n",
            " conv2d_30 (Conv2D)             (None, 14, 14, 192)  147456      ['mixed3[0][0]']                 \n",
            "                                                                                                  \n",
            " conv2d_33 (Conv2D)             (None, 14, 14, 192)  172032      ['activation_32[0][0]']          \n",
            "                                                                                                  \n",
            " conv2d_38 (Conv2D)             (None, 14, 14, 192)  172032      ['activation_37[0][0]']          \n",
            "                                                                                                  \n",
            " conv2d_39 (Conv2D)             (None, 14, 14, 192)  147456      ['average_pooling2d_3[0][0]']    \n",
            "                                                                                                  \n",
            " batch_normalization_30 (BatchN  (None, 14, 14, 192)  576        ['conv2d_30[0][0]']              \n",
            " ormalization)                                                                                    \n",
            "                                                                                                  \n",
            " batch_normalization_33 (BatchN  (None, 14, 14, 192)  576        ['conv2d_33[0][0]']              \n",
            " ormalization)                                                                                    \n",
            "                                                                                                  \n",
            " batch_normalization_38 (BatchN  (None, 14, 14, 192)  576        ['conv2d_38[0][0]']              \n",
            " ormalization)                                                                                    \n",
            "                                                                                                  \n",
            " batch_normalization_39 (BatchN  (None, 14, 14, 192)  576        ['conv2d_39[0][0]']              \n",
            " ormalization)                                                                                    \n",
            "                                                                                                  \n",
            " activation_30 (Activation)     (None, 14, 14, 192)  0           ['batch_normalization_30[0][0]'] \n",
            "                                                                                                  \n",
            " activation_33 (Activation)     (None, 14, 14, 192)  0           ['batch_normalization_33[0][0]'] \n",
            "                                                                                                  \n",
            " activation_38 (Activation)     (None, 14, 14, 192)  0           ['batch_normalization_38[0][0]'] \n",
            "                                                                                                  \n",
            " activation_39 (Activation)     (None, 14, 14, 192)  0           ['batch_normalization_39[0][0]'] \n",
            "                                                                                                  \n",
            " mixed4 (Concatenate)           (None, 14, 14, 768)  0           ['activation_30[0][0]',          \n",
            "                                                                  'activation_33[0][0]',          \n",
            "                                                                  'activation_38[0][0]',          \n",
            "                                                                  'activation_39[0][0]']          \n",
            "                                                                                                  \n",
            " conv2d_44 (Conv2D)             (None, 14, 14, 160)  122880      ['mixed4[0][0]']                 \n",
            "                                                                                                  \n",
            " batch_normalization_44 (BatchN  (None, 14, 14, 160)  480        ['conv2d_44[0][0]']              \n",
            " ormalization)                                                                                    \n",
            "                                                                                                  \n",
            " activation_44 (Activation)     (None, 14, 14, 160)  0           ['batch_normalization_44[0][0]'] \n",
            "                                                                                                  \n",
            " conv2d_45 (Conv2D)             (None, 14, 14, 160)  179200      ['activation_44[0][0]']          \n",
            "                                                                                                  \n",
            " batch_normalization_45 (BatchN  (None, 14, 14, 160)  480        ['conv2d_45[0][0]']              \n",
            " ormalization)                                                                                    \n",
            "                                                                                                  \n",
            " activation_45 (Activation)     (None, 14, 14, 160)  0           ['batch_normalization_45[0][0]'] \n",
            "                                                                                                  \n",
            " conv2d_41 (Conv2D)             (None, 14, 14, 160)  122880      ['mixed4[0][0]']                 \n",
            "                                                                                                  \n",
            " conv2d_46 (Conv2D)             (None, 14, 14, 160)  179200      ['activation_45[0][0]']          \n",
            "                                                                                                  \n",
            " batch_normalization_41 (BatchN  (None, 14, 14, 160)  480        ['conv2d_41[0][0]']              \n",
            " ormalization)                                                                                    \n",
            "                                                                                                  \n",
            " batch_normalization_46 (BatchN  (None, 14, 14, 160)  480        ['conv2d_46[0][0]']              \n",
            " ormalization)                                                                                    \n",
            "                                                                                                  \n",
            " activation_41 (Activation)     (None, 14, 14, 160)  0           ['batch_normalization_41[0][0]'] \n",
            "                                                                                                  \n",
            " activation_46 (Activation)     (None, 14, 14, 160)  0           ['batch_normalization_46[0][0]'] \n",
            "                                                                                                  \n",
            " conv2d_42 (Conv2D)             (None, 14, 14, 160)  179200      ['activation_41[0][0]']          \n",
            "                                                                                                  \n",
            " conv2d_47 (Conv2D)             (None, 14, 14, 160)  179200      ['activation_46[0][0]']          \n",
            "                                                                                                  \n",
            " batch_normalization_42 (BatchN  (None, 14, 14, 160)  480        ['conv2d_42[0][0]']              \n",
            " ormalization)                                                                                    \n",
            "                                                                                                  \n",
            " batch_normalization_47 (BatchN  (None, 14, 14, 160)  480        ['conv2d_47[0][0]']              \n",
            " ormalization)                                                                                    \n",
            "                                                                                                  \n",
            " activation_42 (Activation)     (None, 14, 14, 160)  0           ['batch_normalization_42[0][0]'] \n",
            "                                                                                                  \n",
            " activation_47 (Activation)     (None, 14, 14, 160)  0           ['batch_normalization_47[0][0]'] \n",
            "                                                                                                  \n",
            " average_pooling2d_4 (AveragePo  (None, 14, 14, 768)  0          ['mixed4[0][0]']                 \n",
            " oling2D)                                                                                         \n",
            "                                                                                                  \n",
            " conv2d_40 (Conv2D)             (None, 14, 14, 192)  147456      ['mixed4[0][0]']                 \n",
            "                                                                                                  \n",
            " conv2d_43 (Conv2D)             (None, 14, 14, 192)  215040      ['activation_42[0][0]']          \n",
            "                                                                                                  \n",
            " conv2d_48 (Conv2D)             (None, 14, 14, 192)  215040      ['activation_47[0][0]']          \n",
            "                                                                                                  \n",
            " conv2d_49 (Conv2D)             (None, 14, 14, 192)  147456      ['average_pooling2d_4[0][0]']    \n",
            "                                                                                                  \n",
            " batch_normalization_40 (BatchN  (None, 14, 14, 192)  576        ['conv2d_40[0][0]']              \n",
            " ormalization)                                                                                    \n",
            "                                                                                                  \n",
            " batch_normalization_43 (BatchN  (None, 14, 14, 192)  576        ['conv2d_43[0][0]']              \n",
            " ormalization)                                                                                    \n",
            "                                                                                                  \n",
            " batch_normalization_48 (BatchN  (None, 14, 14, 192)  576        ['conv2d_48[0][0]']              \n",
            " ormalization)                                                                                    \n",
            "                                                                                                  \n",
            " batch_normalization_49 (BatchN  (None, 14, 14, 192)  576        ['conv2d_49[0][0]']              \n",
            " ormalization)                                                                                    \n",
            "                                                                                                  \n",
            " activation_40 (Activation)     (None, 14, 14, 192)  0           ['batch_normalization_40[0][0]'] \n",
            "                                                                                                  \n",
            " activation_43 (Activation)     (None, 14, 14, 192)  0           ['batch_normalization_43[0][0]'] \n",
            "                                                                                                  \n",
            " activation_48 (Activation)     (None, 14, 14, 192)  0           ['batch_normalization_48[0][0]'] \n",
            "                                                                                                  \n",
            " activation_49 (Activation)     (None, 14, 14, 192)  0           ['batch_normalization_49[0][0]'] \n",
            "                                                                                                  \n",
            " mixed5 (Concatenate)           (None, 14, 14, 768)  0           ['activation_40[0][0]',          \n",
            "                                                                  'activation_43[0][0]',          \n",
            "                                                                  'activation_48[0][0]',          \n",
            "                                                                  'activation_49[0][0]']          \n",
            "                                                                                                  \n",
            " conv2d_54 (Conv2D)             (None, 14, 14, 160)  122880      ['mixed5[0][0]']                 \n",
            "                                                                                                  \n",
            " batch_normalization_54 (BatchN  (None, 14, 14, 160)  480        ['conv2d_54[0][0]']              \n",
            " ormalization)                                                                                    \n",
            "                                                                                                  \n",
            " activation_54 (Activation)     (None, 14, 14, 160)  0           ['batch_normalization_54[0][0]'] \n",
            "                                                                                                  \n",
            " conv2d_55 (Conv2D)             (None, 14, 14, 160)  179200      ['activation_54[0][0]']          \n",
            "                                                                                                  \n",
            " batch_normalization_55 (BatchN  (None, 14, 14, 160)  480        ['conv2d_55[0][0]']              \n",
            " ormalization)                                                                                    \n",
            "                                                                                                  \n",
            " activation_55 (Activation)     (None, 14, 14, 160)  0           ['batch_normalization_55[0][0]'] \n",
            "                                                                                                  \n",
            " conv2d_51 (Conv2D)             (None, 14, 14, 160)  122880      ['mixed5[0][0]']                 \n",
            "                                                                                                  \n",
            " conv2d_56 (Conv2D)             (None, 14, 14, 160)  179200      ['activation_55[0][0]']          \n",
            "                                                                                                  \n",
            " batch_normalization_51 (BatchN  (None, 14, 14, 160)  480        ['conv2d_51[0][0]']              \n",
            " ormalization)                                                                                    \n",
            "                                                                                                  \n",
            " batch_normalization_56 (BatchN  (None, 14, 14, 160)  480        ['conv2d_56[0][0]']              \n",
            " ormalization)                                                                                    \n",
            "                                                                                                  \n",
            " activation_51 (Activation)     (None, 14, 14, 160)  0           ['batch_normalization_51[0][0]'] \n",
            "                                                                                                  \n",
            " activation_56 (Activation)     (None, 14, 14, 160)  0           ['batch_normalization_56[0][0]'] \n",
            "                                                                                                  \n",
            " conv2d_52 (Conv2D)             (None, 14, 14, 160)  179200      ['activation_51[0][0]']          \n",
            "                                                                                                  \n",
            " conv2d_57 (Conv2D)             (None, 14, 14, 160)  179200      ['activation_56[0][0]']          \n",
            "                                                                                                  \n",
            " batch_normalization_52 (BatchN  (None, 14, 14, 160)  480        ['conv2d_52[0][0]']              \n",
            " ormalization)                                                                                    \n",
            "                                                                                                  \n",
            " batch_normalization_57 (BatchN  (None, 14, 14, 160)  480        ['conv2d_57[0][0]']              \n",
            " ormalization)                                                                                    \n",
            "                                                                                                  \n",
            " activation_52 (Activation)     (None, 14, 14, 160)  0           ['batch_normalization_52[0][0]'] \n",
            "                                                                                                  \n",
            " activation_57 (Activation)     (None, 14, 14, 160)  0           ['batch_normalization_57[0][0]'] \n",
            "                                                                                                  \n",
            " average_pooling2d_5 (AveragePo  (None, 14, 14, 768)  0          ['mixed5[0][0]']                 \n",
            " oling2D)                                                                                         \n",
            "                                                                                                  \n",
            " conv2d_50 (Conv2D)             (None, 14, 14, 192)  147456      ['mixed5[0][0]']                 \n",
            "                                                                                                  \n",
            " conv2d_53 (Conv2D)             (None, 14, 14, 192)  215040      ['activation_52[0][0]']          \n",
            "                                                                                                  \n",
            " conv2d_58 (Conv2D)             (None, 14, 14, 192)  215040      ['activation_57[0][0]']          \n",
            "                                                                                                  \n",
            " conv2d_59 (Conv2D)             (None, 14, 14, 192)  147456      ['average_pooling2d_5[0][0]']    \n",
            "                                                                                                  \n",
            " batch_normalization_50 (BatchN  (None, 14, 14, 192)  576        ['conv2d_50[0][0]']              \n",
            " ormalization)                                                                                    \n",
            "                                                                                                  \n",
            " batch_normalization_53 (BatchN  (None, 14, 14, 192)  576        ['conv2d_53[0][0]']              \n",
            " ormalization)                                                                                    \n",
            "                                                                                                  \n",
            " batch_normalization_58 (BatchN  (None, 14, 14, 192)  576        ['conv2d_58[0][0]']              \n",
            " ormalization)                                                                                    \n",
            "                                                                                                  \n",
            " batch_normalization_59 (BatchN  (None, 14, 14, 192)  576        ['conv2d_59[0][0]']              \n",
            " ormalization)                                                                                    \n",
            "                                                                                                  \n",
            " activation_50 (Activation)     (None, 14, 14, 192)  0           ['batch_normalization_50[0][0]'] \n",
            "                                                                                                  \n",
            " activation_53 (Activation)     (None, 14, 14, 192)  0           ['batch_normalization_53[0][0]'] \n",
            "                                                                                                  \n",
            " activation_58 (Activation)     (None, 14, 14, 192)  0           ['batch_normalization_58[0][0]'] \n",
            "                                                                                                  \n",
            " activation_59 (Activation)     (None, 14, 14, 192)  0           ['batch_normalization_59[0][0]'] \n",
            "                                                                                                  \n",
            " mixed6 (Concatenate)           (None, 14, 14, 768)  0           ['activation_50[0][0]',          \n",
            "                                                                  'activation_53[0][0]',          \n",
            "                                                                  'activation_58[0][0]',          \n",
            "                                                                  'activation_59[0][0]']          \n",
            "                                                                                                  \n",
            " conv2d_64 (Conv2D)             (None, 14, 14, 192)  147456      ['mixed6[0][0]']                 \n",
            "                                                                                                  \n",
            " batch_normalization_64 (BatchN  (None, 14, 14, 192)  576        ['conv2d_64[0][0]']              \n",
            " ormalization)                                                                                    \n",
            "                                                                                                  \n",
            " activation_64 (Activation)     (None, 14, 14, 192)  0           ['batch_normalization_64[0][0]'] \n",
            "                                                                                                  \n",
            " conv2d_65 (Conv2D)             (None, 14, 14, 192)  258048      ['activation_64[0][0]']          \n",
            "                                                                                                  \n",
            " batch_normalization_65 (BatchN  (None, 14, 14, 192)  576        ['conv2d_65[0][0]']              \n",
            " ormalization)                                                                                    \n",
            "                                                                                                  \n",
            " activation_65 (Activation)     (None, 14, 14, 192)  0           ['batch_normalization_65[0][0]'] \n",
            "                                                                                                  \n",
            " conv2d_61 (Conv2D)             (None, 14, 14, 192)  147456      ['mixed6[0][0]']                 \n",
            "                                                                                                  \n",
            " conv2d_66 (Conv2D)             (None, 14, 14, 192)  258048      ['activation_65[0][0]']          \n",
            "                                                                                                  \n",
            " batch_normalization_61 (BatchN  (None, 14, 14, 192)  576        ['conv2d_61[0][0]']              \n",
            " ormalization)                                                                                    \n",
            "                                                                                                  \n",
            " batch_normalization_66 (BatchN  (None, 14, 14, 192)  576        ['conv2d_66[0][0]']              \n",
            " ormalization)                                                                                    \n",
            "                                                                                                  \n",
            " activation_61 (Activation)     (None, 14, 14, 192)  0           ['batch_normalization_61[0][0]'] \n",
            "                                                                                                  \n",
            " activation_66 (Activation)     (None, 14, 14, 192)  0           ['batch_normalization_66[0][0]'] \n",
            "                                                                                                  \n",
            " conv2d_62 (Conv2D)             (None, 14, 14, 192)  258048      ['activation_61[0][0]']          \n",
            "                                                                                                  \n",
            " conv2d_67 (Conv2D)             (None, 14, 14, 192)  258048      ['activation_66[0][0]']          \n",
            "                                                                                                  \n",
            " batch_normalization_62 (BatchN  (None, 14, 14, 192)  576        ['conv2d_62[0][0]']              \n",
            " ormalization)                                                                                    \n",
            "                                                                                                  \n",
            " batch_normalization_67 (BatchN  (None, 14, 14, 192)  576        ['conv2d_67[0][0]']              \n",
            " ormalization)                                                                                    \n",
            "                                                                                                  \n",
            " activation_62 (Activation)     (None, 14, 14, 192)  0           ['batch_normalization_62[0][0]'] \n",
            "                                                                                                  \n",
            " activation_67 (Activation)     (None, 14, 14, 192)  0           ['batch_normalization_67[0][0]'] \n",
            "                                                                                                  \n",
            " average_pooling2d_6 (AveragePo  (None, 14, 14, 768)  0          ['mixed6[0][0]']                 \n",
            " oling2D)                                                                                         \n",
            "                                                                                                  \n",
            " conv2d_60 (Conv2D)             (None, 14, 14, 192)  147456      ['mixed6[0][0]']                 \n",
            "                                                                                                  \n",
            " conv2d_63 (Conv2D)             (None, 14, 14, 192)  258048      ['activation_62[0][0]']          \n",
            "                                                                                                  \n",
            " conv2d_68 (Conv2D)             (None, 14, 14, 192)  258048      ['activation_67[0][0]']          \n",
            "                                                                                                  \n",
            " conv2d_69 (Conv2D)             (None, 14, 14, 192)  147456      ['average_pooling2d_6[0][0]']    \n",
            "                                                                                                  \n",
            " batch_normalization_60 (BatchN  (None, 14, 14, 192)  576        ['conv2d_60[0][0]']              \n",
            " ormalization)                                                                                    \n",
            "                                                                                                  \n",
            " batch_normalization_63 (BatchN  (None, 14, 14, 192)  576        ['conv2d_63[0][0]']              \n",
            " ormalization)                                                                                    \n",
            "                                                                                                  \n",
            " batch_normalization_68 (BatchN  (None, 14, 14, 192)  576        ['conv2d_68[0][0]']              \n",
            " ormalization)                                                                                    \n",
            "                                                                                                  \n",
            " batch_normalization_69 (BatchN  (None, 14, 14, 192)  576        ['conv2d_69[0][0]']              \n",
            " ormalization)                                                                                    \n",
            "                                                                                                  \n",
            " activation_60 (Activation)     (None, 14, 14, 192)  0           ['batch_normalization_60[0][0]'] \n",
            "                                                                                                  \n",
            " activation_63 (Activation)     (None, 14, 14, 192)  0           ['batch_normalization_63[0][0]'] \n",
            "                                                                                                  \n",
            " activation_68 (Activation)     (None, 14, 14, 192)  0           ['batch_normalization_68[0][0]'] \n",
            "                                                                                                  \n",
            " activation_69 (Activation)     (None, 14, 14, 192)  0           ['batch_normalization_69[0][0]'] \n",
            "                                                                                                  \n",
            " mixed7 (Concatenate)           (None, 14, 14, 768)  0           ['activation_60[0][0]',          \n",
            "                                                                  'activation_63[0][0]',          \n",
            "                                                                  'activation_68[0][0]',          \n",
            "                                                                  'activation_69[0][0]']          \n",
            "                                                                                                  \n",
            " conv2d_72 (Conv2D)             (None, 14, 14, 192)  147456      ['mixed7[0][0]']                 \n",
            "                                                                                                  \n",
            " batch_normalization_72 (BatchN  (None, 14, 14, 192)  576        ['conv2d_72[0][0]']              \n",
            " ormalization)                                                                                    \n",
            "                                                                                                  \n",
            " activation_72 (Activation)     (None, 14, 14, 192)  0           ['batch_normalization_72[0][0]'] \n",
            "                                                                                                  \n",
            " conv2d_73 (Conv2D)             (None, 14, 14, 192)  258048      ['activation_72[0][0]']          \n",
            "                                                                                                  \n",
            " batch_normalization_73 (BatchN  (None, 14, 14, 192)  576        ['conv2d_73[0][0]']              \n",
            " ormalization)                                                                                    \n",
            "                                                                                                  \n",
            " activation_73 (Activation)     (None, 14, 14, 192)  0           ['batch_normalization_73[0][0]'] \n",
            "                                                                                                  \n",
            " conv2d_70 (Conv2D)             (None, 14, 14, 192)  147456      ['mixed7[0][0]']                 \n",
            "                                                                                                  \n",
            " conv2d_74 (Conv2D)             (None, 14, 14, 192)  258048      ['activation_73[0][0]']          \n",
            "                                                                                                  \n",
            " batch_normalization_70 (BatchN  (None, 14, 14, 192)  576        ['conv2d_70[0][0]']              \n",
            " ormalization)                                                                                    \n",
            "                                                                                                  \n",
            " batch_normalization_74 (BatchN  (None, 14, 14, 192)  576        ['conv2d_74[0][0]']              \n",
            " ormalization)                                                                                    \n",
            "                                                                                                  \n",
            " activation_70 (Activation)     (None, 14, 14, 192)  0           ['batch_normalization_70[0][0]'] \n",
            "                                                                                                  \n",
            " activation_74 (Activation)     (None, 14, 14, 192)  0           ['batch_normalization_74[0][0]'] \n",
            "                                                                                                  \n",
            " conv2d_71 (Conv2D)             (None, 6, 6, 320)    552960      ['activation_70[0][0]']          \n",
            "                                                                                                  \n",
            " conv2d_75 (Conv2D)             (None, 6, 6, 192)    331776      ['activation_74[0][0]']          \n",
            "                                                                                                  \n",
            " batch_normalization_71 (BatchN  (None, 6, 6, 320)   960         ['conv2d_71[0][0]']              \n",
            " ormalization)                                                                                    \n",
            "                                                                                                  \n",
            " batch_normalization_75 (BatchN  (None, 6, 6, 192)   576         ['conv2d_75[0][0]']              \n",
            " ormalization)                                                                                    \n",
            "                                                                                                  \n",
            " activation_71 (Activation)     (None, 6, 6, 320)    0           ['batch_normalization_71[0][0]'] \n",
            "                                                                                                  \n",
            " activation_75 (Activation)     (None, 6, 6, 192)    0           ['batch_normalization_75[0][0]'] \n",
            "                                                                                                  \n",
            " max_pooling2d_3 (MaxPooling2D)  (None, 6, 6, 768)   0           ['mixed7[0][0]']                 \n",
            "                                                                                                  \n",
            " mixed8 (Concatenate)           (None, 6, 6, 1280)   0           ['activation_71[0][0]',          \n",
            "                                                                  'activation_75[0][0]',          \n",
            "                                                                  'max_pooling2d_3[0][0]']        \n",
            "                                                                                                  \n",
            " flatten (Flatten)              (None, 46080)        0           ['mixed8[0][0]']                 \n",
            "                                                                                                  \n",
            " dropout (Dropout)              (None, 46080)        0           ['flatten[0][0]']                \n",
            "                                                                                                  \n",
            " dense (Dense)                  (None, 128)          5898368     ['dropout[0][0]']                \n",
            "                                                                                                  \n",
            " dense_1 (Dense)                (None, 4)            516         ['dense[0][0]']                  \n",
            "                                                                                                  \n",
            "==================================================================================================\n",
            "Total params: 16,573,732\n",
            "Trainable params: 5,898,884\n",
            "Non-trainable params: 10,674,848\n",
            "__________________________________________________________________________________________________\n"
          ]
        }
      ],
      "source": [
        "model=classification_model((256,256,3))\n",
        "model.summary()"
      ]
    },
    {
      "cell_type": "code",
      "execution_count": 5,
      "id": "fe706142",
      "metadata": {
        "id": "fe706142",
        "outputId": "3a9791c4-6852-4789-de40-80e31fbef609",
        "colab": {
          "base_uri": "https://localhost:8080/"
        }
      },
      "outputs": [
        {
          "output_type": "stream",
          "name": "stdout",
          "text": [
            "Downloading data from https://storage.googleapis.com/tensorflow/keras-applications/resnet/resnet50_weights_tf_dim_ordering_tf_kernels_notop.h5\n",
            "94773248/94765736 [==============================] - 0s 0us/step\n",
            "94781440/94765736 [==============================] - 0s 0us/step\n",
            "Model: \"classfication_inc\"\n",
            "__________________________________________________________________________________________________\n",
            " Layer (type)                   Output Shape         Param #     Connected to                     \n",
            "==================================================================================================\n",
            " input (InputLayer)             [(None, 256, 256, 3  0           []                               \n",
            "                                )]                                                                \n",
            "                                                                                                  \n",
            " conv1_pad (ZeroPadding2D)      (None, 262, 262, 3)  0           ['input[0][0]']                  \n",
            "                                                                                                  \n",
            " conv1_conv (Conv2D)            (None, 128, 128, 64  9472        ['conv1_pad[0][0]']              \n",
            "                                )                                                                 \n",
            "                                                                                                  \n",
            " conv1_bn (BatchNormalization)  (None, 128, 128, 64  256         ['conv1_conv[0][0]']             \n",
            "                                )                                                                 \n",
            "                                                                                                  \n",
            " conv1_relu (Activation)        (None, 128, 128, 64  0           ['conv1_bn[0][0]']               \n",
            "                                )                                                                 \n",
            "                                                                                                  \n",
            " pool1_pad (ZeroPadding2D)      (None, 130, 130, 64  0           ['conv1_relu[0][0]']             \n",
            "                                )                                                                 \n",
            "                                                                                                  \n",
            " pool1_pool (MaxPooling2D)      (None, 64, 64, 64)   0           ['pool1_pad[0][0]']              \n",
            "                                                                                                  \n",
            " conv2_block1_1_conv (Conv2D)   (None, 64, 64, 64)   4160        ['pool1_pool[0][0]']             \n",
            "                                                                                                  \n",
            " conv2_block1_1_bn (BatchNormal  (None, 64, 64, 64)  256         ['conv2_block1_1_conv[0][0]']    \n",
            " ization)                                                                                         \n",
            "                                                                                                  \n",
            " conv2_block1_1_relu (Activatio  (None, 64, 64, 64)  0           ['conv2_block1_1_bn[0][0]']      \n",
            " n)                                                                                               \n",
            "                                                                                                  \n",
            " conv2_block1_2_conv (Conv2D)   (None, 64, 64, 64)   36928       ['conv2_block1_1_relu[0][0]']    \n",
            "                                                                                                  \n",
            " conv2_block1_2_bn (BatchNormal  (None, 64, 64, 64)  256         ['conv2_block1_2_conv[0][0]']    \n",
            " ization)                                                                                         \n",
            "                                                                                                  \n",
            " conv2_block1_2_relu (Activatio  (None, 64, 64, 64)  0           ['conv2_block1_2_bn[0][0]']      \n",
            " n)                                                                                               \n",
            "                                                                                                  \n",
            " conv2_block1_0_conv (Conv2D)   (None, 64, 64, 256)  16640       ['pool1_pool[0][0]']             \n",
            "                                                                                                  \n",
            " conv2_block1_3_conv (Conv2D)   (None, 64, 64, 256)  16640       ['conv2_block1_2_relu[0][0]']    \n",
            "                                                                                                  \n",
            " conv2_block1_0_bn (BatchNormal  (None, 64, 64, 256)  1024       ['conv2_block1_0_conv[0][0]']    \n",
            " ization)                                                                                         \n",
            "                                                                                                  \n",
            " conv2_block1_3_bn (BatchNormal  (None, 64, 64, 256)  1024       ['conv2_block1_3_conv[0][0]']    \n",
            " ization)                                                                                         \n",
            "                                                                                                  \n",
            " conv2_block1_add (Add)         (None, 64, 64, 256)  0           ['conv2_block1_0_bn[0][0]',      \n",
            "                                                                  'conv2_block1_3_bn[0][0]']      \n",
            "                                                                                                  \n",
            " conv2_block1_out (Activation)  (None, 64, 64, 256)  0           ['conv2_block1_add[0][0]']       \n",
            "                                                                                                  \n",
            " conv2_block2_1_conv (Conv2D)   (None, 64, 64, 64)   16448       ['conv2_block1_out[0][0]']       \n",
            "                                                                                                  \n",
            " conv2_block2_1_bn (BatchNormal  (None, 64, 64, 64)  256         ['conv2_block2_1_conv[0][0]']    \n",
            " ization)                                                                                         \n",
            "                                                                                                  \n",
            " conv2_block2_1_relu (Activatio  (None, 64, 64, 64)  0           ['conv2_block2_1_bn[0][0]']      \n",
            " n)                                                                                               \n",
            "                                                                                                  \n",
            " conv2_block2_2_conv (Conv2D)   (None, 64, 64, 64)   36928       ['conv2_block2_1_relu[0][0]']    \n",
            "                                                                                                  \n",
            " conv2_block2_2_bn (BatchNormal  (None, 64, 64, 64)  256         ['conv2_block2_2_conv[0][0]']    \n",
            " ization)                                                                                         \n",
            "                                                                                                  \n",
            " conv2_block2_2_relu (Activatio  (None, 64, 64, 64)  0           ['conv2_block2_2_bn[0][0]']      \n",
            " n)                                                                                               \n",
            "                                                                                                  \n",
            " conv2_block2_3_conv (Conv2D)   (None, 64, 64, 256)  16640       ['conv2_block2_2_relu[0][0]']    \n",
            "                                                                                                  \n",
            " conv2_block2_3_bn (BatchNormal  (None, 64, 64, 256)  1024       ['conv2_block2_3_conv[0][0]']    \n",
            " ization)                                                                                         \n",
            "                                                                                                  \n",
            " conv2_block2_add (Add)         (None, 64, 64, 256)  0           ['conv2_block1_out[0][0]',       \n",
            "                                                                  'conv2_block2_3_bn[0][0]']      \n",
            "                                                                                                  \n",
            " conv2_block2_out (Activation)  (None, 64, 64, 256)  0           ['conv2_block2_add[0][0]']       \n",
            "                                                                                                  \n",
            " conv2_block3_1_conv (Conv2D)   (None, 64, 64, 64)   16448       ['conv2_block2_out[0][0]']       \n",
            "                                                                                                  \n",
            " conv2_block3_1_bn (BatchNormal  (None, 64, 64, 64)  256         ['conv2_block3_1_conv[0][0]']    \n",
            " ization)                                                                                         \n",
            "                                                                                                  \n",
            " conv2_block3_1_relu (Activatio  (None, 64, 64, 64)  0           ['conv2_block3_1_bn[0][0]']      \n",
            " n)                                                                                               \n",
            "                                                                                                  \n",
            " conv2_block3_2_conv (Conv2D)   (None, 64, 64, 64)   36928       ['conv2_block3_1_relu[0][0]']    \n",
            "                                                                                                  \n",
            " conv2_block3_2_bn (BatchNormal  (None, 64, 64, 64)  256         ['conv2_block3_2_conv[0][0]']    \n",
            " ization)                                                                                         \n",
            "                                                                                                  \n",
            " conv2_block3_2_relu (Activatio  (None, 64, 64, 64)  0           ['conv2_block3_2_bn[0][0]']      \n",
            " n)                                                                                               \n",
            "                                                                                                  \n",
            " conv2_block3_3_conv (Conv2D)   (None, 64, 64, 256)  16640       ['conv2_block3_2_relu[0][0]']    \n",
            "                                                                                                  \n",
            " conv2_block3_3_bn (BatchNormal  (None, 64, 64, 256)  1024       ['conv2_block3_3_conv[0][0]']    \n",
            " ization)                                                                                         \n",
            "                                                                                                  \n",
            " conv2_block3_add (Add)         (None, 64, 64, 256)  0           ['conv2_block2_out[0][0]',       \n",
            "                                                                  'conv2_block3_3_bn[0][0]']      \n",
            "                                                                                                  \n",
            " conv2_block3_out (Activation)  (None, 64, 64, 256)  0           ['conv2_block3_add[0][0]']       \n",
            "                                                                                                  \n",
            " conv3_block1_1_conv (Conv2D)   (None, 32, 32, 128)  32896       ['conv2_block3_out[0][0]']       \n",
            "                                                                                                  \n",
            " conv3_block1_1_bn (BatchNormal  (None, 32, 32, 128)  512        ['conv3_block1_1_conv[0][0]']    \n",
            " ization)                                                                                         \n",
            "                                                                                                  \n",
            " conv3_block1_1_relu (Activatio  (None, 32, 32, 128)  0          ['conv3_block1_1_bn[0][0]']      \n",
            " n)                                                                                               \n",
            "                                                                                                  \n",
            " conv3_block1_2_conv (Conv2D)   (None, 32, 32, 128)  147584      ['conv3_block1_1_relu[0][0]']    \n",
            "                                                                                                  \n",
            " conv3_block1_2_bn (BatchNormal  (None, 32, 32, 128)  512        ['conv3_block1_2_conv[0][0]']    \n",
            " ization)                                                                                         \n",
            "                                                                                                  \n",
            " conv3_block1_2_relu (Activatio  (None, 32, 32, 128)  0          ['conv3_block1_2_bn[0][0]']      \n",
            " n)                                                                                               \n",
            "                                                                                                  \n",
            " conv3_block1_0_conv (Conv2D)   (None, 32, 32, 512)  131584      ['conv2_block3_out[0][0]']       \n",
            "                                                                                                  \n",
            " conv3_block1_3_conv (Conv2D)   (None, 32, 32, 512)  66048       ['conv3_block1_2_relu[0][0]']    \n",
            "                                                                                                  \n",
            " conv3_block1_0_bn (BatchNormal  (None, 32, 32, 512)  2048       ['conv3_block1_0_conv[0][0]']    \n",
            " ization)                                                                                         \n",
            "                                                                                                  \n",
            " conv3_block1_3_bn (BatchNormal  (None, 32, 32, 512)  2048       ['conv3_block1_3_conv[0][0]']    \n",
            " ization)                                                                                         \n",
            "                                                                                                  \n",
            " conv3_block1_add (Add)         (None, 32, 32, 512)  0           ['conv3_block1_0_bn[0][0]',      \n",
            "                                                                  'conv3_block1_3_bn[0][0]']      \n",
            "                                                                                                  \n",
            " conv3_block1_out (Activation)  (None, 32, 32, 512)  0           ['conv3_block1_add[0][0]']       \n",
            "                                                                                                  \n",
            " conv3_block2_1_conv (Conv2D)   (None, 32, 32, 128)  65664       ['conv3_block1_out[0][0]']       \n",
            "                                                                                                  \n",
            " conv3_block2_1_bn (BatchNormal  (None, 32, 32, 128)  512        ['conv3_block2_1_conv[0][0]']    \n",
            " ization)                                                                                         \n",
            "                                                                                                  \n",
            " conv3_block2_1_relu (Activatio  (None, 32, 32, 128)  0          ['conv3_block2_1_bn[0][0]']      \n",
            " n)                                                                                               \n",
            "                                                                                                  \n",
            " conv3_block2_2_conv (Conv2D)   (None, 32, 32, 128)  147584      ['conv3_block2_1_relu[0][0]']    \n",
            "                                                                                                  \n",
            " conv3_block2_2_bn (BatchNormal  (None, 32, 32, 128)  512        ['conv3_block2_2_conv[0][0]']    \n",
            " ization)                                                                                         \n",
            "                                                                                                  \n",
            " conv3_block2_2_relu (Activatio  (None, 32, 32, 128)  0          ['conv3_block2_2_bn[0][0]']      \n",
            " n)                                                                                               \n",
            "                                                                                                  \n",
            " conv3_block2_3_conv (Conv2D)   (None, 32, 32, 512)  66048       ['conv3_block2_2_relu[0][0]']    \n",
            "                                                                                                  \n",
            " conv3_block2_3_bn (BatchNormal  (None, 32, 32, 512)  2048       ['conv3_block2_3_conv[0][0]']    \n",
            " ization)                                                                                         \n",
            "                                                                                                  \n",
            " conv3_block2_add (Add)         (None, 32, 32, 512)  0           ['conv3_block1_out[0][0]',       \n",
            "                                                                  'conv3_block2_3_bn[0][0]']      \n",
            "                                                                                                  \n",
            " conv3_block2_out (Activation)  (None, 32, 32, 512)  0           ['conv3_block2_add[0][0]']       \n",
            "                                                                                                  \n",
            " conv3_block3_1_conv (Conv2D)   (None, 32, 32, 128)  65664       ['conv3_block2_out[0][0]']       \n",
            "                                                                                                  \n",
            " conv3_block3_1_bn (BatchNormal  (None, 32, 32, 128)  512        ['conv3_block3_1_conv[0][0]']    \n",
            " ization)                                                                                         \n",
            "                                                                                                  \n",
            " conv3_block3_1_relu (Activatio  (None, 32, 32, 128)  0          ['conv3_block3_1_bn[0][0]']      \n",
            " n)                                                                                               \n",
            "                                                                                                  \n",
            " conv3_block3_2_conv (Conv2D)   (None, 32, 32, 128)  147584      ['conv3_block3_1_relu[0][0]']    \n",
            "                                                                                                  \n",
            " conv3_block3_2_bn (BatchNormal  (None, 32, 32, 128)  512        ['conv3_block3_2_conv[0][0]']    \n",
            " ization)                                                                                         \n",
            "                                                                                                  \n",
            " conv3_block3_2_relu (Activatio  (None, 32, 32, 128)  0          ['conv3_block3_2_bn[0][0]']      \n",
            " n)                                                                                               \n",
            "                                                                                                  \n",
            " conv3_block3_3_conv (Conv2D)   (None, 32, 32, 512)  66048       ['conv3_block3_2_relu[0][0]']    \n",
            "                                                                                                  \n",
            " conv3_block3_3_bn (BatchNormal  (None, 32, 32, 512)  2048       ['conv3_block3_3_conv[0][0]']    \n",
            " ization)                                                                                         \n",
            "                                                                                                  \n",
            " conv3_block3_add (Add)         (None, 32, 32, 512)  0           ['conv3_block2_out[0][0]',       \n",
            "                                                                  'conv3_block3_3_bn[0][0]']      \n",
            "                                                                                                  \n",
            " conv3_block3_out (Activation)  (None, 32, 32, 512)  0           ['conv3_block3_add[0][0]']       \n",
            "                                                                                                  \n",
            " conv3_block4_1_conv (Conv2D)   (None, 32, 32, 128)  65664       ['conv3_block3_out[0][0]']       \n",
            "                                                                                                  \n",
            " conv3_block4_1_bn (BatchNormal  (None, 32, 32, 128)  512        ['conv3_block4_1_conv[0][0]']    \n",
            " ization)                                                                                         \n",
            "                                                                                                  \n",
            " conv3_block4_1_relu (Activatio  (None, 32, 32, 128)  0          ['conv3_block4_1_bn[0][0]']      \n",
            " n)                                                                                               \n",
            "                                                                                                  \n",
            " conv3_block4_2_conv (Conv2D)   (None, 32, 32, 128)  147584      ['conv3_block4_1_relu[0][0]']    \n",
            "                                                                                                  \n",
            " conv3_block4_2_bn (BatchNormal  (None, 32, 32, 128)  512        ['conv3_block4_2_conv[0][0]']    \n",
            " ization)                                                                                         \n",
            "                                                                                                  \n",
            " conv3_block4_2_relu (Activatio  (None, 32, 32, 128)  0          ['conv3_block4_2_bn[0][0]']      \n",
            " n)                                                                                               \n",
            "                                                                                                  \n",
            " conv3_block4_3_conv (Conv2D)   (None, 32, 32, 512)  66048       ['conv3_block4_2_relu[0][0]']    \n",
            "                                                                                                  \n",
            " conv3_block4_3_bn (BatchNormal  (None, 32, 32, 512)  2048       ['conv3_block4_3_conv[0][0]']    \n",
            " ization)                                                                                         \n",
            "                                                                                                  \n",
            " conv3_block4_add (Add)         (None, 32, 32, 512)  0           ['conv3_block3_out[0][0]',       \n",
            "                                                                  'conv3_block4_3_bn[0][0]']      \n",
            "                                                                                                  \n",
            " conv3_block4_out (Activation)  (None, 32, 32, 512)  0           ['conv3_block4_add[0][0]']       \n",
            "                                                                                                  \n",
            " conv4_block1_1_conv (Conv2D)   (None, 16, 16, 256)  131328      ['conv3_block4_out[0][0]']       \n",
            "                                                                                                  \n",
            " conv4_block1_1_bn (BatchNormal  (None, 16, 16, 256)  1024       ['conv4_block1_1_conv[0][0]']    \n",
            " ization)                                                                                         \n",
            "                                                                                                  \n",
            " conv4_block1_1_relu (Activatio  (None, 16, 16, 256)  0          ['conv4_block1_1_bn[0][0]']      \n",
            " n)                                                                                               \n",
            "                                                                                                  \n",
            " conv4_block1_2_conv (Conv2D)   (None, 16, 16, 256)  590080      ['conv4_block1_1_relu[0][0]']    \n",
            "                                                                                                  \n",
            " conv4_block1_2_bn (BatchNormal  (None, 16, 16, 256)  1024       ['conv4_block1_2_conv[0][0]']    \n",
            " ization)                                                                                         \n",
            "                                                                                                  \n",
            " conv4_block1_2_relu (Activatio  (None, 16, 16, 256)  0          ['conv4_block1_2_bn[0][0]']      \n",
            " n)                                                                                               \n",
            "                                                                                                  \n",
            " conv4_block1_0_conv (Conv2D)   (None, 16, 16, 1024  525312      ['conv3_block4_out[0][0]']       \n",
            "                                )                                                                 \n",
            "                                                                                                  \n",
            " conv4_block1_3_conv (Conv2D)   (None, 16, 16, 1024  263168      ['conv4_block1_2_relu[0][0]']    \n",
            "                                )                                                                 \n",
            "                                                                                                  \n",
            " conv4_block1_0_bn (BatchNormal  (None, 16, 16, 1024  4096       ['conv4_block1_0_conv[0][0]']    \n",
            " ization)                       )                                                                 \n",
            "                                                                                                  \n",
            " conv4_block1_3_bn (BatchNormal  (None, 16, 16, 1024  4096       ['conv4_block1_3_conv[0][0]']    \n",
            " ization)                       )                                                                 \n",
            "                                                                                                  \n",
            " conv4_block1_add (Add)         (None, 16, 16, 1024  0           ['conv4_block1_0_bn[0][0]',      \n",
            "                                )                                 'conv4_block1_3_bn[0][0]']      \n",
            "                                                                                                  \n",
            " conv4_block1_out (Activation)  (None, 16, 16, 1024  0           ['conv4_block1_add[0][0]']       \n",
            "                                )                                                                 \n",
            "                                                                                                  \n",
            " conv4_block2_1_conv (Conv2D)   (None, 16, 16, 256)  262400      ['conv4_block1_out[0][0]']       \n",
            "                                                                                                  \n",
            " conv4_block2_1_bn (BatchNormal  (None, 16, 16, 256)  1024       ['conv4_block2_1_conv[0][0]']    \n",
            " ization)                                                                                         \n",
            "                                                                                                  \n",
            " conv4_block2_1_relu (Activatio  (None, 16, 16, 256)  0          ['conv4_block2_1_bn[0][0]']      \n",
            " n)                                                                                               \n",
            "                                                                                                  \n",
            " conv4_block2_2_conv (Conv2D)   (None, 16, 16, 256)  590080      ['conv4_block2_1_relu[0][0]']    \n",
            "                                                                                                  \n",
            " conv4_block2_2_bn (BatchNormal  (None, 16, 16, 256)  1024       ['conv4_block2_2_conv[0][0]']    \n",
            " ization)                                                                                         \n",
            "                                                                                                  \n",
            " conv4_block2_2_relu (Activatio  (None, 16, 16, 256)  0          ['conv4_block2_2_bn[0][0]']      \n",
            " n)                                                                                               \n",
            "                                                                                                  \n",
            " conv4_block2_3_conv (Conv2D)   (None, 16, 16, 1024  263168      ['conv4_block2_2_relu[0][0]']    \n",
            "                                )                                                                 \n",
            "                                                                                                  \n",
            " conv4_block2_3_bn (BatchNormal  (None, 16, 16, 1024  4096       ['conv4_block2_3_conv[0][0]']    \n",
            " ization)                       )                                                                 \n",
            "                                                                                                  \n",
            " conv4_block2_add (Add)         (None, 16, 16, 1024  0           ['conv4_block1_out[0][0]',       \n",
            "                                )                                 'conv4_block2_3_bn[0][0]']      \n",
            "                                                                                                  \n",
            " conv4_block2_out (Activation)  (None, 16, 16, 1024  0           ['conv4_block2_add[0][0]']       \n",
            "                                )                                                                 \n",
            "                                                                                                  \n",
            " conv4_block3_1_conv (Conv2D)   (None, 16, 16, 256)  262400      ['conv4_block2_out[0][0]']       \n",
            "                                                                                                  \n",
            " conv4_block3_1_bn (BatchNormal  (None, 16, 16, 256)  1024       ['conv4_block3_1_conv[0][0]']    \n",
            " ization)                                                                                         \n",
            "                                                                                                  \n",
            " conv4_block3_1_relu (Activatio  (None, 16, 16, 256)  0          ['conv4_block3_1_bn[0][0]']      \n",
            " n)                                                                                               \n",
            "                                                                                                  \n",
            " conv4_block3_2_conv (Conv2D)   (None, 16, 16, 256)  590080      ['conv4_block3_1_relu[0][0]']    \n",
            "                                                                                                  \n",
            " conv4_block3_2_bn (BatchNormal  (None, 16, 16, 256)  1024       ['conv4_block3_2_conv[0][0]']    \n",
            " ization)                                                                                         \n",
            "                                                                                                  \n",
            " conv4_block3_2_relu (Activatio  (None, 16, 16, 256)  0          ['conv4_block3_2_bn[0][0]']      \n",
            " n)                                                                                               \n",
            "                                                                                                  \n",
            " conv4_block3_3_conv (Conv2D)   (None, 16, 16, 1024  263168      ['conv4_block3_2_relu[0][0]']    \n",
            "                                )                                                                 \n",
            "                                                                                                  \n",
            " conv4_block3_3_bn (BatchNormal  (None, 16, 16, 1024  4096       ['conv4_block3_3_conv[0][0]']    \n",
            " ization)                       )                                                                 \n",
            "                                                                                                  \n",
            " conv4_block3_add (Add)         (None, 16, 16, 1024  0           ['conv4_block2_out[0][0]',       \n",
            "                                )                                 'conv4_block3_3_bn[0][0]']      \n",
            "                                                                                                  \n",
            " conv4_block3_out (Activation)  (None, 16, 16, 1024  0           ['conv4_block3_add[0][0]']       \n",
            "                                )                                                                 \n",
            "                                                                                                  \n",
            " conv4_block4_1_conv (Conv2D)   (None, 16, 16, 256)  262400      ['conv4_block3_out[0][0]']       \n",
            "                                                                                                  \n",
            " conv4_block4_1_bn (BatchNormal  (None, 16, 16, 256)  1024       ['conv4_block4_1_conv[0][0]']    \n",
            " ization)                                                                                         \n",
            "                                                                                                  \n",
            " conv4_block4_1_relu (Activatio  (None, 16, 16, 256)  0          ['conv4_block4_1_bn[0][0]']      \n",
            " n)                                                                                               \n",
            "                                                                                                  \n",
            " conv4_block4_2_conv (Conv2D)   (None, 16, 16, 256)  590080      ['conv4_block4_1_relu[0][0]']    \n",
            "                                                                                                  \n",
            " conv4_block4_2_bn (BatchNormal  (None, 16, 16, 256)  1024       ['conv4_block4_2_conv[0][0]']    \n",
            " ization)                                                                                         \n",
            "                                                                                                  \n",
            " conv4_block4_2_relu (Activatio  (None, 16, 16, 256)  0          ['conv4_block4_2_bn[0][0]']      \n",
            " n)                                                                                               \n",
            "                                                                                                  \n",
            " conv4_block4_3_conv (Conv2D)   (None, 16, 16, 1024  263168      ['conv4_block4_2_relu[0][0]']    \n",
            "                                )                                                                 \n",
            "                                                                                                  \n",
            " conv4_block4_3_bn (BatchNormal  (None, 16, 16, 1024  4096       ['conv4_block4_3_conv[0][0]']    \n",
            " ization)                       )                                                                 \n",
            "                                                                                                  \n",
            " conv4_block4_add (Add)         (None, 16, 16, 1024  0           ['conv4_block3_out[0][0]',       \n",
            "                                )                                 'conv4_block4_3_bn[0][0]']      \n",
            "                                                                                                  \n",
            " conv4_block4_out (Activation)  (None, 16, 16, 1024  0           ['conv4_block4_add[0][0]']       \n",
            "                                )                                                                 \n",
            "                                                                                                  \n",
            " conv4_block5_1_conv (Conv2D)   (None, 16, 16, 256)  262400      ['conv4_block4_out[0][0]']       \n",
            "                                                                                                  \n",
            " conv4_block5_1_bn (BatchNormal  (None, 16, 16, 256)  1024       ['conv4_block5_1_conv[0][0]']    \n",
            " ization)                                                                                         \n",
            "                                                                                                  \n",
            " conv4_block5_1_relu (Activatio  (None, 16, 16, 256)  0          ['conv4_block5_1_bn[0][0]']      \n",
            " n)                                                                                               \n",
            "                                                                                                  \n",
            " conv4_block5_2_conv (Conv2D)   (None, 16, 16, 256)  590080      ['conv4_block5_1_relu[0][0]']    \n",
            "                                                                                                  \n",
            " conv4_block5_2_bn (BatchNormal  (None, 16, 16, 256)  1024       ['conv4_block5_2_conv[0][0]']    \n",
            " ization)                                                                                         \n",
            "                                                                                                  \n",
            " conv4_block5_2_relu (Activatio  (None, 16, 16, 256)  0          ['conv4_block5_2_bn[0][0]']      \n",
            " n)                                                                                               \n",
            "                                                                                                  \n",
            " conv4_block5_3_conv (Conv2D)   (None, 16, 16, 1024  263168      ['conv4_block5_2_relu[0][0]']    \n",
            "                                )                                                                 \n",
            "                                                                                                  \n",
            " conv4_block5_3_bn (BatchNormal  (None, 16, 16, 1024  4096       ['conv4_block5_3_conv[0][0]']    \n",
            " ization)                       )                                                                 \n",
            "                                                                                                  \n",
            " conv4_block5_add (Add)         (None, 16, 16, 1024  0           ['conv4_block4_out[0][0]',       \n",
            "                                )                                 'conv4_block5_3_bn[0][0]']      \n",
            "                                                                                                  \n",
            " conv4_block5_out (Activation)  (None, 16, 16, 1024  0           ['conv4_block5_add[0][0]']       \n",
            "                                )                                                                 \n",
            "                                                                                                  \n",
            " conv4_block6_1_conv (Conv2D)   (None, 16, 16, 256)  262400      ['conv4_block5_out[0][0]']       \n",
            "                                                                                                  \n",
            " conv4_block6_1_bn (BatchNormal  (None, 16, 16, 256)  1024       ['conv4_block6_1_conv[0][0]']    \n",
            " ization)                                                                                         \n",
            "                                                                                                  \n",
            " conv4_block6_1_relu (Activatio  (None, 16, 16, 256)  0          ['conv4_block6_1_bn[0][0]']      \n",
            " n)                                                                                               \n",
            "                                                                                                  \n",
            " conv4_block6_2_conv (Conv2D)   (None, 16, 16, 256)  590080      ['conv4_block6_1_relu[0][0]']    \n",
            "                                                                                                  \n",
            " conv4_block6_2_bn (BatchNormal  (None, 16, 16, 256)  1024       ['conv4_block6_2_conv[0][0]']    \n",
            " ization)                                                                                         \n",
            "                                                                                                  \n",
            " conv4_block6_2_relu (Activatio  (None, 16, 16, 256)  0          ['conv4_block6_2_bn[0][0]']      \n",
            " n)                                                                                               \n",
            "                                                                                                  \n",
            " conv4_block6_3_conv (Conv2D)   (None, 16, 16, 1024  263168      ['conv4_block6_2_relu[0][0]']    \n",
            "                                )                                                                 \n",
            "                                                                                                  \n",
            " conv4_block6_3_bn (BatchNormal  (None, 16, 16, 1024  4096       ['conv4_block6_3_conv[0][0]']    \n",
            " ization)                       )                                                                 \n",
            "                                                                                                  \n",
            " conv4_block6_add (Add)         (None, 16, 16, 1024  0           ['conv4_block5_out[0][0]',       \n",
            "                                )                                 'conv4_block6_3_bn[0][0]']      \n",
            "                                                                                                  \n",
            " conv4_block6_out (Activation)  (None, 16, 16, 1024  0           ['conv4_block6_add[0][0]']       \n",
            "                                )                                                                 \n",
            "                                                                                                  \n",
            " flatten_1 (Flatten)            (None, 262144)       0           ['conv4_block6_out[0][0]']       \n",
            "                                                                                                  \n",
            " dropout_1 (Dropout)            (None, 262144)       0           ['flatten_1[0][0]']              \n",
            "                                                                                                  \n",
            " dense_2 (Dense)                (None, 128)          33554560    ['dropout_1[0][0]']              \n",
            "                                                                                                  \n",
            " dense_3 (Dense)                (None, 4)            516         ['dense_2[0][0]']                \n",
            "                                                                                                  \n",
            "==================================================================================================\n",
            "Total params: 42,144,260\n",
            "Trainable params: 33,555,076\n",
            "Non-trainable params: 8,589,184\n",
            "__________________________________________________________________________________________________\n"
          ]
        }
      ],
      "source": [
        "model2=classification_resnet((256,256,3))\n",
        "model2.summary()"
      ]
    },
    {
      "cell_type": "code",
      "execution_count": 6,
      "id": "fd4d7ea1",
      "metadata": {
        "id": "fd4d7ea1"
      },
      "outputs": [],
      "source": [
        "model.compile(optimizer='adam',loss=tf.keras.losses.categorical_crossentropy,metrics=['accuracy'])\n",
        "model2.compile(optimizer='adam',loss=tf.keras.losses.categorical_crossentropy,metrics=['accuracy'])"
      ]
    },
    {
      "cell_type": "code",
      "execution_count": 7,
      "id": "98783aae",
      "metadata": {
        "id": "98783aae"
      },
      "outputs": [],
      "source": [
        "x_train=np.load('/content/drive/MyDrive/classification_image.npy').astype(np.float32)\n",
        "label=np.load(\"/content/drive/MyDrive/classification_label.npy\").astype(np.float32)"
      ]
    },
    {
      "cell_type": "markdown",
      "source": [
        "Creating Googlenet checkpoints"
      ],
      "metadata": {
        "id": "VyyJkMBuLVNB"
      },
      "id": "VyyJkMBuLVNB"
    },
    {
      "cell_type": "code",
      "source": [
        "checkpoint_dir = '/content/drive/MyDrive/training_checkpoints_gnet'\n",
        "checkpoint_prefix = os.path.join(checkpoint_dir, \"my_ckpt\")\n",
        "callbackg=tf.keras.callbacks.ModelCheckpoint(monitor=\"loss\",filepath=checkpoint_prefix,save_weights_only=True)\n"
      ],
      "metadata": {
        "id": "3-CK01jXSzAz"
      },
      "id": "3-CK01jXSzAz",
      "execution_count": 8,
      "outputs": []
    },
    {
      "cell_type": "code",
      "source": [
        "history=model.fit(x_train,label,batch_size=20,epochs=100,callbacks=[callbackg])"
      ],
      "metadata": {
        "colab": {
          "base_uri": "https://localhost:8080/"
        },
        "id": "xzbNCu7YLdgs",
        "outputId": "5e6a8244-34b5-48a4-ea0d-0cecb8c7634f"
      },
      "id": "xzbNCu7YLdgs",
      "execution_count": 9,
      "outputs": [
        {
          "output_type": "stream",
          "name": "stdout",
          "text": [
            "Epoch 1/100\n",
            "25/25 [==============================] - 17s 114ms/step - loss: 289.1070 - accuracy: 0.3569\n",
            "Epoch 2/100\n",
            "25/25 [==============================] - 2s 99ms/step - loss: 24.8784 - accuracy: 0.6089\n",
            "Epoch 3/100\n",
            "25/25 [==============================] - 2s 79ms/step - loss: 11.5385 - accuracy: 0.6411\n",
            "Epoch 4/100\n",
            "25/25 [==============================] - 2s 82ms/step - loss: 12.3074 - accuracy: 0.6734\n",
            "Epoch 5/100\n",
            "25/25 [==============================] - 3s 105ms/step - loss: 5.6239 - accuracy: 0.7540\n",
            "Epoch 6/100\n",
            "25/25 [==============================] - 2s 80ms/step - loss: 4.9605 - accuracy: 0.7722\n",
            "Epoch 7/100\n",
            "25/25 [==============================] - 2s 80ms/step - loss: 5.4470 - accuracy: 0.7782\n",
            "Epoch 8/100\n",
            "25/25 [==============================] - 2s 97ms/step - loss: 10.4932 - accuracy: 0.7137\n",
            "Epoch 9/100\n",
            "25/25 [==============================] - 2s 79ms/step - loss: 7.0797 - accuracy: 0.7621\n",
            "Epoch 10/100\n",
            "25/25 [==============================] - 2s 81ms/step - loss: 6.6841 - accuracy: 0.7883\n",
            "Epoch 11/100\n",
            "25/25 [==============================] - 2s 94ms/step - loss: 5.9387 - accuracy: 0.7722\n",
            "Epoch 12/100\n",
            "25/25 [==============================] - 2s 81ms/step - loss: 4.4420 - accuracy: 0.8266\n",
            "Epoch 13/100\n",
            "25/25 [==============================] - 2s 80ms/step - loss: 5.5936 - accuracy: 0.7984\n",
            "Epoch 14/100\n",
            "25/25 [==============================] - 2s 82ms/step - loss: 5.8021 - accuracy: 0.7702\n",
            "Epoch 15/100\n",
            "25/25 [==============================] - 2s 83ms/step - loss: 2.8908 - accuracy: 0.8629\n",
            "Epoch 16/100\n",
            "25/25 [==============================] - 3s 106ms/step - loss: 4.4292 - accuracy: 0.8649\n",
            "Epoch 17/100\n",
            "25/25 [==============================] - 2s 83ms/step - loss: 7.9102 - accuracy: 0.7742\n",
            "Epoch 18/100\n",
            "25/25 [==============================] - 2s 84ms/step - loss: 7.3330 - accuracy: 0.7823\n",
            "Epoch 19/100\n",
            "25/25 [==============================] - 2s 98ms/step - loss: 2.2768 - accuracy: 0.8831\n",
            "Epoch 20/100\n",
            "25/25 [==============================] - 2s 81ms/step - loss: 2.5992 - accuracy: 0.8972\n",
            "Epoch 21/100\n",
            "25/25 [==============================] - 2s 81ms/step - loss: 5.0094 - accuracy: 0.8266\n",
            "Epoch 22/100\n",
            "25/25 [==============================] - 2s 99ms/step - loss: 0.9815 - accuracy: 0.9395\n",
            "Epoch 23/100\n",
            "25/25 [==============================] - 2s 81ms/step - loss: 1.5879 - accuracy: 0.9073\n",
            "Epoch 24/100\n",
            "25/25 [==============================] - 2s 79ms/step - loss: 2.8763 - accuracy: 0.8871\n",
            "Epoch 25/100\n",
            "25/25 [==============================] - 2s 82ms/step - loss: 3.7028 - accuracy: 0.8649\n",
            "Epoch 26/100\n",
            "25/25 [==============================] - 2s 82ms/step - loss: 1.3187 - accuracy: 0.9214\n",
            "Epoch 27/100\n",
            "25/25 [==============================] - 3s 105ms/step - loss: 3.3236 - accuracy: 0.8750\n",
            "Epoch 28/100\n",
            "25/25 [==============================] - 2s 80ms/step - loss: 2.1442 - accuracy: 0.9194\n",
            "Epoch 29/100\n",
            "25/25 [==============================] - 2s 81ms/step - loss: 2.4212 - accuracy: 0.8871\n",
            "Epoch 30/100\n",
            "25/25 [==============================] - 2s 97ms/step - loss: 1.9037 - accuracy: 0.9012\n",
            "Epoch 31/100\n",
            "25/25 [==============================] - 2s 81ms/step - loss: 0.6889 - accuracy: 0.9617\n",
            "Epoch 32/100\n",
            "25/25 [==============================] - 2s 81ms/step - loss: 2.1313 - accuracy: 0.8992\n",
            "Epoch 33/100\n",
            "25/25 [==============================] - 2s 100ms/step - loss: 2.7181 - accuracy: 0.9052\n",
            "Epoch 34/100\n",
            "25/25 [==============================] - 2s 82ms/step - loss: 2.4429 - accuracy: 0.8891\n",
            "Epoch 35/100\n",
            "25/25 [==============================] - 2s 80ms/step - loss: 2.2400 - accuracy: 0.9153\n",
            "Epoch 36/100\n",
            "25/25 [==============================] - 2s 80ms/step - loss: 1.3214 - accuracy: 0.9435\n",
            "Epoch 37/100\n",
            "25/25 [==============================] - 2s 81ms/step - loss: 1.9749 - accuracy: 0.8831\n",
            "Epoch 38/100\n",
            "25/25 [==============================] - 2s 98ms/step - loss: 1.3944 - accuracy: 0.9315\n",
            "Epoch 39/100\n",
            "25/25 [==============================] - 2s 81ms/step - loss: 6.9447 - accuracy: 0.8750\n",
            "Epoch 40/100\n",
            "25/25 [==============================] - 2s 83ms/step - loss: 4.9875 - accuracy: 0.8306\n",
            "Epoch 41/100\n",
            "25/25 [==============================] - 2s 98ms/step - loss: 0.8437 - accuracy: 0.9516\n",
            "Epoch 42/100\n",
            "25/25 [==============================] - 2s 81ms/step - loss: 1.5251 - accuracy: 0.9375\n",
            "Epoch 43/100\n",
            "25/25 [==============================] - 2s 82ms/step - loss: 0.7469 - accuracy: 0.9738\n",
            "Epoch 44/100\n",
            "25/25 [==============================] - 3s 107ms/step - loss: 0.4867 - accuracy: 0.9637\n",
            "Epoch 45/100\n",
            "25/25 [==============================] - 2s 82ms/step - loss: 0.2546 - accuracy: 0.9718\n",
            "Epoch 46/100\n",
            "25/25 [==============================] - 3s 107ms/step - loss: 0.8909 - accuracy: 0.9536\n",
            "Epoch 47/100\n",
            "25/25 [==============================] - 2s 81ms/step - loss: 1.1069 - accuracy: 0.9476\n",
            "Epoch 48/100\n",
            "25/25 [==============================] - 2s 82ms/step - loss: 2.6334 - accuracy: 0.8871\n",
            "Epoch 49/100\n",
            "25/25 [==============================] - 2s 98ms/step - loss: 2.5336 - accuracy: 0.9153\n",
            "Epoch 50/100\n",
            "25/25 [==============================] - 2s 82ms/step - loss: 2.0140 - accuracy: 0.9052\n",
            "Epoch 51/100\n",
            "25/25 [==============================] - 2s 90ms/step - loss: 0.8454 - accuracy: 0.9435\n",
            "Epoch 52/100\n",
            "25/25 [==============================] - 2s 101ms/step - loss: 0.3223 - accuracy: 0.9839\n",
            "Epoch 53/100\n",
            "25/25 [==============================] - 2s 82ms/step - loss: 0.7284 - accuracy: 0.9738\n",
            "Epoch 54/100\n",
            "25/25 [==============================] - 3s 107ms/step - loss: 0.5094 - accuracy: 0.9718\n",
            "Epoch 55/100\n",
            "25/25 [==============================] - 2s 80ms/step - loss: 0.5165 - accuracy: 0.9597\n",
            "Epoch 56/100\n",
            "25/25 [==============================] - 2s 82ms/step - loss: 0.2711 - accuracy: 0.9738\n",
            "Epoch 57/100\n",
            "25/25 [==============================] - 3s 102ms/step - loss: 0.1992 - accuracy: 0.9839\n",
            "Epoch 58/100\n",
            "25/25 [==============================] - 2s 80ms/step - loss: 0.2937 - accuracy: 0.9758\n",
            "Epoch 59/100\n",
            "25/25 [==============================] - 2s 85ms/step - loss: 0.3593 - accuracy: 0.9819\n",
            "Epoch 60/100\n",
            "25/25 [==============================] - 2s 98ms/step - loss: 0.4289 - accuracy: 0.9718\n",
            "Epoch 61/100\n",
            "25/25 [==============================] - 2s 81ms/step - loss: 0.7898 - accuracy: 0.9577\n",
            "Epoch 62/100\n",
            "25/25 [==============================] - 2s 81ms/step - loss: 0.4911 - accuracy: 0.9637\n",
            "Epoch 63/100\n",
            "25/25 [==============================] - 2s 81ms/step - loss: 0.7950 - accuracy: 0.9677\n",
            "Epoch 64/100\n",
            "25/25 [==============================] - 2s 82ms/step - loss: 1.0557 - accuracy: 0.9456\n",
            "Epoch 65/100\n",
            "25/25 [==============================] - 2s 98ms/step - loss: 0.9208 - accuracy: 0.9536\n",
            "Epoch 66/100\n",
            "25/25 [==============================] - 2s 81ms/step - loss: 1.7283 - accuracy: 0.9456\n",
            "Epoch 67/100\n",
            "25/25 [==============================] - 2s 82ms/step - loss: 1.5182 - accuracy: 0.9335\n",
            "Epoch 68/100\n",
            "25/25 [==============================] - 2s 98ms/step - loss: 0.6848 - accuracy: 0.9536\n",
            "Epoch 69/100\n",
            "25/25 [==============================] - 2s 80ms/step - loss: 1.1897 - accuracy: 0.9415\n",
            "Epoch 70/100\n",
            "25/25 [==============================] - 2s 83ms/step - loss: 0.7641 - accuracy: 0.9677\n",
            "Epoch 71/100\n",
            "25/25 [==============================] - 2s 89ms/step - loss: 1.3394 - accuracy: 0.9234\n",
            "Epoch 72/100\n",
            "25/25 [==============================] - 2s 82ms/step - loss: 0.2271 - accuracy: 0.9839\n",
            "Epoch 73/100\n",
            "25/25 [==============================] - 2s 99ms/step - loss: 0.1013 - accuracy: 0.9940\n",
            "Epoch 74/100\n",
            "25/25 [==============================] - 2s 80ms/step - loss: 0.3893 - accuracy: 0.9798\n",
            "Epoch 75/100\n",
            "25/25 [==============================] - 2s 94ms/step - loss: 0.3366 - accuracy: 0.9718\n",
            "Epoch 76/100\n",
            "25/25 [==============================] - 3s 105ms/step - loss: 0.4878 - accuracy: 0.9738\n",
            "Epoch 77/100\n",
            "25/25 [==============================] - 2s 81ms/step - loss: 2.7061 - accuracy: 0.9032\n",
            "Epoch 78/100\n",
            "25/25 [==============================] - 3s 107ms/step - loss: 2.0370 - accuracy: 0.9274\n",
            "Epoch 79/100\n",
            "25/25 [==============================] - 2s 81ms/step - loss: 1.0144 - accuracy: 0.9476\n",
            "Epoch 80/100\n",
            "25/25 [==============================] - 2s 83ms/step - loss: 0.5862 - accuracy: 0.9657\n",
            "Epoch 81/100\n",
            "25/25 [==============================] - 2s 97ms/step - loss: 1.8243 - accuracy: 0.9052\n",
            "Epoch 82/100\n",
            "25/25 [==============================] - 2s 82ms/step - loss: 1.4216 - accuracy: 0.9194\n",
            "Epoch 83/100\n",
            "25/25 [==============================] - 2s 84ms/step - loss: 0.5611 - accuracy: 0.9677\n",
            "Epoch 84/100\n",
            "25/25 [==============================] - 2s 99ms/step - loss: 0.4249 - accuracy: 0.9536\n",
            "Epoch 85/100\n",
            "25/25 [==============================] - 2s 81ms/step - loss: 0.3654 - accuracy: 0.9778\n",
            "Epoch 86/100\n",
            "25/25 [==============================] - 2s 102ms/step - loss: 0.5161 - accuracy: 0.9657\n",
            "Epoch 87/100\n",
            "25/25 [==============================] - 2s 83ms/step - loss: 0.5267 - accuracy: 0.9718\n",
            "Epoch 88/100\n",
            "25/25 [==============================] - 2s 80ms/step - loss: 0.2995 - accuracy: 0.9819\n",
            "Epoch 89/100\n",
            "25/25 [==============================] - 2s 97ms/step - loss: 0.5136 - accuracy: 0.9657\n",
            "Epoch 90/100\n",
            "25/25 [==============================] - 2s 81ms/step - loss: 0.3580 - accuracy: 0.9839\n",
            "Epoch 91/100\n",
            "25/25 [==============================] - 2s 84ms/step - loss: 0.1129 - accuracy: 0.9839\n",
            "Epoch 92/100\n",
            "25/25 [==============================] - 2s 90ms/step - loss: 1.4492 - accuracy: 0.9536\n",
            "Epoch 93/100\n",
            "25/25 [==============================] - 2s 80ms/step - loss: 2.4544 - accuracy: 0.9113\n",
            "Epoch 94/100\n",
            "25/25 [==============================] - 2s 97ms/step - loss: 1.6103 - accuracy: 0.9294\n",
            "Epoch 95/100\n",
            "25/25 [==============================] - 2s 80ms/step - loss: 1.5008 - accuracy: 0.9315\n",
            "Epoch 96/100\n",
            "25/25 [==============================] - 2s 83ms/step - loss: 0.7452 - accuracy: 0.9617\n",
            "Epoch 97/100\n",
            "25/25 [==============================] - 2s 98ms/step - loss: 0.4034 - accuracy: 0.9758\n",
            "Epoch 98/100\n",
            "25/25 [==============================] - 2s 81ms/step - loss: 0.2656 - accuracy: 0.9718\n",
            "Epoch 99/100\n",
            "25/25 [==============================] - 2s 81ms/step - loss: 0.2134 - accuracy: 0.9778\n",
            "Epoch 100/100\n",
            "25/25 [==============================] - 2s 98ms/step - loss: 1.0367 - accuracy: 0.9274\n"
          ]
        }
      ]
    },
    {
      "cell_type": "markdown",
      "source": [
        "Creating Resnet-50 checkpoints"
      ],
      "metadata": {
        "id": "90MVQ5exMLOk"
      },
      "id": "90MVQ5exMLOk"
    },
    {
      "cell_type": "code",
      "execution_count": 10,
      "id": "a8643917",
      "metadata": {
        "id": "a8643917"
      },
      "outputs": [],
      "source": [
        "checkpoint_dir = '/content/drive/MyDrive/training_checkpoints_resnet'\n",
        "checkpoint_prefix = os.path.join(checkpoint_dir, \"my_ckpt\")\n",
        "callbackr=tf.keras.callbacks.ModelCheckpoint(monitor=\"loss\",filepath=checkpoint_prefix,save_weights_only=True)\n"
      ]
    },
    {
      "cell_type": "code",
      "source": [
        "history2=model2.fit(x_train,label,batch_size=20,epochs=20,callbacks=[callbackr])"
      ],
      "metadata": {
        "colab": {
          "base_uri": "https://localhost:8080/"
        },
        "id": "js06HlOvLsZA",
        "outputId": "7e835aaa-576a-4845-d49f-c03ff498662e"
      },
      "id": "js06HlOvLsZA",
      "execution_count": 11,
      "outputs": [
        {
          "output_type": "stream",
          "name": "stdout",
          "text": [
            "Epoch 1/20\n",
            "25/25 [==============================] - 7s 176ms/step - loss: 47.9167 - accuracy: 0.4556\n",
            "Epoch 2/20\n",
            "25/25 [==============================] - 4s 170ms/step - loss: 4.1837 - accuracy: 0.7641\n",
            "Epoch 3/20\n",
            "25/25 [==============================] - 4s 150ms/step - loss: 2.8947 - accuracy: 0.8266\n",
            "Epoch 4/20\n",
            "25/25 [==============================] - 4s 148ms/step - loss: 1.1867 - accuracy: 0.8992\n",
            "Epoch 5/20\n",
            "25/25 [==============================] - 5s 185ms/step - loss: 0.7719 - accuracy: 0.9254\n",
            "Epoch 6/20\n",
            "25/25 [==============================] - 4s 150ms/step - loss: 0.6787 - accuracy: 0.9395\n",
            "Epoch 7/20\n",
            "25/25 [==============================] - 3s 141ms/step - loss: 0.3645 - accuracy: 0.9496\n",
            "Epoch 8/20\n",
            "25/25 [==============================] - 4s 180ms/step - loss: 0.2938 - accuracy: 0.9577\n",
            "Epoch 9/20\n",
            "25/25 [==============================] - 4s 147ms/step - loss: 0.0784 - accuracy: 0.9819\n",
            "Epoch 10/20\n",
            "25/25 [==============================] - 4s 147ms/step - loss: 0.0372 - accuracy: 0.9879\n",
            "Epoch 11/20\n",
            "25/25 [==============================] - 4s 160ms/step - loss: 0.0125 - accuracy: 0.9940\n",
            "Epoch 12/20\n",
            "25/25 [==============================] - 4s 163ms/step - loss: 0.1212 - accuracy: 0.9879\n",
            "Epoch 13/20\n",
            "25/25 [==============================] - 5s 185ms/step - loss: 0.1856 - accuracy: 0.9677\n",
            "Epoch 14/20\n",
            "25/25 [==============================] - 4s 155ms/step - loss: 0.2694 - accuracy: 0.9698\n",
            "Epoch 15/20\n",
            "25/25 [==============================] - 4s 145ms/step - loss: 0.0517 - accuracy: 0.9940\n",
            "Epoch 16/20\n",
            "25/25 [==============================] - 4s 176ms/step - loss: 0.1491 - accuracy: 0.9738\n",
            "Epoch 17/20\n",
            "25/25 [==============================] - 4s 146ms/step - loss: 0.0571 - accuracy: 0.9940\n",
            "Epoch 18/20\n",
            "25/25 [==============================] - 3s 141ms/step - loss: 0.0676 - accuracy: 0.9839\n",
            "Epoch 19/20\n",
            "25/25 [==============================] - 4s 175ms/step - loss: 0.0259 - accuracy: 0.9940\n",
            "Epoch 20/20\n",
            "25/25 [==============================] - 4s 146ms/step - loss: 0.0038 - accuracy: 0.9980\n"
          ]
        }
      ]
    },
    {
      "cell_type": "code",
      "execution_count": 12,
      "id": "e5a8d95f",
      "metadata": {
        "id": "e5a8d95f",
        "colab": {
          "base_uri": "https://localhost:8080/",
          "height": 295
        },
        "outputId": "cc0f8174-716b-43ba-c344-c90451d90d4c"
      },
      "outputs": [
        {
          "output_type": "display_data",
          "data": {
            "text/plain": [
              "<Figure size 432x288 with 2 Axes>"
            ],
            "image/png": "[encoded data removed]"
          },
          "metadata": {
            "needs_background": "light"
          }
        }
      ],
      "source": [
        "plt.subplot(121)\n",
        "plt.plot(history.history['accuracy'])\n",
        "plt.title(\"model accuracy GoogleNet\")\n",
        "plt.ylabel(\"accuracy\")\n",
        "plt.xlabel(\"epoch\")\n",
        "plt.subplot(122)\n",
        "plt.plot(history.history['loss'])\n",
        "plt.title(\"model loss\")\n",
        "plt.ylabel(\"loss\")\n",
        "plt.xlabel(\"epoch\")\n",
        "plt.show()"
      ]
    },
    {
      "cell_type": "code",
      "execution_count": 13,
      "id": "59f709fc",
      "metadata": {
        "id": "59f709fc",
        "outputId": "85294826-f6c3-4184-e6c1-d60c7d974f34",
        "colab": {
          "base_uri": "https://localhost:8080/",
          "height": 295
        }
      },
      "outputs": [
        {
          "output_type": "display_data",
          "data": {
            "text/plain": [
              "<Figure size 432x288 with 2 Axes>"
            ],
            "image/png": "[encoded data removed]"
          },
          "metadata": {
            "needs_background": "light"
          }
        }
      ],
      "source": [
        "plt.subplot(121)\n",
        "plt.plot(history2.history['accuracy'])\n",
        "plt.title(\"model accuracy for Resnet-50\")\n",
        "plt.ylabel(\"accuracy\")\n",
        "plt.xlabel(\"epoch\")\n",
        "plt.subplot(122)\n",
        "plt.plot(history2.history['loss'])\n",
        "plt.title(\"model loss\")\n",
        "plt.ylabel(\"loss\")\n",
        "plt.xlabel(\"epoch\")\n",
        "plt.show()"
      ]
    },
    {
      "cell_type": "code",
      "source": [
        "y_pred=model(x_train)\n",
        "pred=np.argmax(y_pred,axis=-1)\n",
        "y_pred2=model2(x_train)\n",
        "pred2=np.argmax(y_pred2,axis=-1)\n",
        "\n",
        "actual=np.argmax(label,axis=-1)"
      ],
      "metadata": {
        "id": "qicH6Q7K2qP3"
      },
      "id": "qicH6Q7K2qP3",
      "execution_count": 14,
      "outputs": []
    },
    {
      "cell_type": "markdown",
      "source": [
        "Confusion matrix"
      ],
      "metadata": {
        "id": "ZX3T2gET4-Pq"
      },
      "id": "ZX3T2gET4-Pq"
    },
    {
      "cell_type": "code",
      "execution_count": 15,
      "id": "55ec8f36",
      "metadata": {
        "id": "55ec8f36",
        "outputId": "48435789-642e-441b-c42b-f039eed67672",
        "colab": {
          "base_uri": "https://localhost:8080/"
        }
      },
      "outputs": [
        {
          "output_type": "stream",
          "name": "stdout",
          "text": [
            "[[[429   1]\n",
            "  [  0  66]]\n",
            "\n",
            " [[286   5]\n",
            "  [  0 205]]\n",
            "\n",
            " [[371   0]\n",
            "  [  6 119]]\n",
            "\n",
            " [[396   0]\n",
            "  [  0 100]]]\n",
            "[[[430   0]\n",
            "  [  0  66]]\n",
            "\n",
            " [[291   0]\n",
            "  [  0 205]]\n",
            "\n",
            " [[371   0]\n",
            "  [  0 125]]\n",
            "\n",
            " [[396   0]\n",
            "  [  0 100]]]\n"
          ]
        }
      ],
      "source": [
        "\n",
        "result=multilabel_confusion_matrix(actual,pred)\n",
        "result2=multilabel_confusion_matrix(actual,pred2)\n",
        "print(result)\n",
        "print(result2)"
      ]
    },
    {
      "cell_type": "markdown",
      "source": [
        "Classification Report"
      ],
      "metadata": {
        "id": "P9s7s3-943rM"
      },
      "id": "P9s7s3-943rM"
    },
    {
      "cell_type": "code",
      "source": [
        "report1 = classification_report(actual,pred)\n",
        "report2 = classification_report(actual,pred2)\n",
        "print(report1)\n",
        "print(report2)"
      ],
      "metadata": {
        "id": "CkFvttIMeAI5",
        "colab": {
          "base_uri": "https://localhost:8080/"
        },
        "outputId": "65a0865e-82e0-421a-81d4-258d159c7efe"
      },
      "id": "CkFvttIMeAI5",
      "execution_count": 16,
      "outputs": [
        {
          "output_type": "stream",
          "name": "stdout",
          "text": [
            "              precision    recall  f1-score   support\n",
            "\n",
            "           0       0.99      1.00      0.99        66\n",
            "           1       0.98      1.00      0.99       205\n",
            "           2       1.00      0.95      0.98       125\n",
            "           3       1.00      1.00      1.00       100\n",
            "\n",
            "    accuracy                           0.99       496\n",
            "   macro avg       0.99      0.99      0.99       496\n",
            "weighted avg       0.99      0.99      0.99       496\n",
            "\n",
            "              precision    recall  f1-score   support\n",
            "\n",
            "           0       1.00      1.00      1.00        66\n",
            "           1       1.00      1.00      1.00       205\n",
            "           2       1.00      1.00      1.00       125\n",
            "           3       1.00      1.00      1.00       100\n",
            "\n",
            "    accuracy                           1.00       496\n",
            "   macro avg       1.00      1.00      1.00       496\n",
            "weighted avg       1.00      1.00      1.00       496\n",
            "\n"
          ]
        }
      ]
    },
    {
      "cell_type": "markdown",
      "source": [
        "Loading checkpoints for classification"
      ],
      "metadata": {
        "id": "QMB6nrtJ0oE4"
      },
      "id": "QMB6nrtJ0oE4"
    },
    {
      "cell_type": "code",
      "source": [
        "checkpoint_dir = '/content/drive/MyDrive/training_checkpoints_gnet/'\n",
        "checkpoint_prefix = os.path.join(checkpoint_dir, \"my_ckpt\")\n",
        "model.load_weights(checkpoint_prefix)"
      ],
      "metadata": {
        "colab": {
          "base_uri": "https://localhost:8080/"
        },
        "id": "RyaShZRC0KLO",
        "outputId": "5659bd21-7e1b-42bc-e20c-6292d82deb75"
      },
      "id": "RyaShZRC0KLO",
      "execution_count": 17,
      "outputs": [
        {
          "output_type": "execute_result",
          "data": {
            "text/plain": [
              "<tensorflow.python.training.tracking.util.CheckpointLoadStatus at 0x7f52bf9e79d0>"
            ]
          },
          "metadata": {},
          "execution_count": 17
        }
      ]
    },
    {
      "cell_type": "code",
      "source": [
        "checkpoint_dir = '/content/drive/MyDrive/training_checkpoints_resnet/'\n",
        "checkpoint_prefix = os.path.join(checkpoint_dir, \"my_ckpt\")\n",
        "model2.load_weights(checkpoint_prefix)"
      ],
      "metadata": {
        "colab": {
          "base_uri": "https://localhost:8080/"
        },
        "id": "RIImtw_60doP",
        "outputId": "5e078f30-f9ee-4fea-e1a0-85ba2701ea70"
      },
      "id": "RIImtw_60doP",
      "execution_count": 18,
      "outputs": [
        {
          "output_type": "execute_result",
          "data": {
            "text/plain": [
              "<tensorflow.python.training.tracking.util.CheckpointLoadStatus at 0x7f52bf964d10>"
            ]
          },
          "metadata": {},
          "execution_count": 18
        }
      ]
    },
    {
      "cell_type": "markdown",
      "source": [
        "Sample Image prediction"
      ],
      "metadata": {
        "id": "HbXbJRFr4yD0"
      },
      "id": "HbXbJRFr4yD0"
    },
    {
      "cell_type": "code",
      "source": [
        "plt.imshow(x_train[0].astype(np.int8))"
      ],
      "metadata": {
        "colab": {
          "base_uri": "https://localhost:8080/",
          "height": 304
        },
        "id": "16CrBbHJ1880",
        "outputId": "09299c77-a1e7-464c-ecfc-849d252fe2c2"
      },
      "id": "16CrBbHJ1880",
      "execution_count": 19,
      "outputs": [
        {
          "output_type": "stream",
          "name": "stderr",
          "text": [
            "Clipping input data to the valid range for imshow with RGB data ([0..1] for floats or [0..255] for integers).\n"
          ]
        },
        {
          "output_type": "execute_result",
          "data": {
            "text/plain": [
              "<matplotlib.image.AxesImage at 0x7f52bd030f10>"
            ]
          },
          "metadata": {},
          "execution_count": 19
        },
        {
          "output_type": "display_data",
          "data": {
            "text/plain": [
              "<Figure size 432x288 with 1 Axes>"
            ],
            "image/png": "[encoded data removed]"
          },
          "metadata": {
            "needs_background": "light"
          }
        }
      ]
    },
    {
      "cell_type": "code",
      "source": [
        "pred2[4]"
      ],
      "metadata": {
        "colab": {
          "base_uri": "https://localhost:8080/"
        },
        "id": "mALqblxq2RiM",
        "outputId": "7678e384-9ba6-4921-fd5b-18705f83dc72"
      },
      "id": "mALqblxq2RiM",
      "execution_count": 20,
      "outputs": [
        {
          "output_type": "execute_result",
          "data": {
            "text/plain": [
              "0"
            ]
          },
          "metadata": {},
          "execution_count": 20
        }
      ]
    },
    {
      "cell_type": "code",
      "source": [
        "actual[4]"
      ],
      "metadata": {
        "colab": {
          "base_uri": "https://localhost:8080/"
        },
        "id": "DNZ2Ico94GNj",
        "outputId": "0e384493-227a-48c7-d6ee-99ebf799a513"
      },
      "id": "DNZ2Ico94GNj",
      "execution_count": 21,
      "outputs": [
        {
          "output_type": "execute_result",
          "data": {
            "text/plain": [
              "0"
            ]
          },
          "metadata": {},
          "execution_count": 21
        }
      ]
    },
    {
      "cell_type": "markdown",
      "id": "67762872",
      "metadata": {
        "id": "67762872"
      },
      "source": [
        "# Segmentation"
      ]
    },
    {
      "cell_type": "code",
      "execution_count": 22,
      "id": "1b059082",
      "metadata": {
        "colab": {
          "base_uri": "https://localhost:8080/"
        },
        "id": "1b059082",
        "outputId": "5bee8619-bd91-447f-ccd8-d0322258299b"
      },
      "outputs": [
        {
          "output_type": "stream",
          "name": "stdout",
          "text": [
            "Model: \"Unet_res\"\n",
            "__________________________________________________________________________________________________\n",
            " Layer (type)                   Output Shape         Param #     Connected to                     \n",
            "==================================================================================================\n",
            " input (InputLayer)             [(None, 512, 512, 3  0           []                               \n",
            "                                )]                                                                \n",
            "                                                                                                  \n",
            " conv1_pad (ZeroPadding2D)      (None, 518, 518, 3)  0           ['input[0][0]']                  \n",
            "                                                                                                  \n",
            " conv1_conv (Conv2D)            (None, 256, 256, 64  9472        ['conv1_pad[0][0]']              \n",
            "                                )                                                                 \n",
            "                                                                                                  \n",
            " conv1_bn (BatchNormalization)  (None, 256, 256, 64  256         ['conv1_conv[0][0]']             \n",
            "                                )                                                                 \n",
            "                                                                                                  \n",
            " conv1_relu (Activation)        (None, 256, 256, 64  0           ['conv1_bn[0][0]']               \n",
            "                                )                                                                 \n",
            "                                                                                                  \n",
            " pool1_pad (ZeroPadding2D)      (None, 258, 258, 64  0           ['conv1_relu[0][0]']             \n",
            "                                )                                                                 \n",
            "                                                                                                  \n",
            " pool1_pool (MaxPooling2D)      (None, 128, 128, 64  0           ['pool1_pad[0][0]']              \n",
            "                                )                                                                 \n",
            "                                                                                                  \n",
            " conv2_block1_1_conv (Conv2D)   (None, 128, 128, 64  4160        ['pool1_pool[0][0]']             \n",
            "                                )                                                                 \n",
            "                                                                                                  \n",
            " conv2_block1_1_bn (BatchNormal  (None, 128, 128, 64  256        ['conv2_block1_1_conv[0][0]']    \n",
            " ization)                       )                                                                 \n",
            "                                                                                                  \n",
            " conv2_block1_1_relu (Activatio  (None, 128, 128, 64  0          ['conv2_block1_1_bn[0][0]']      \n",
            " n)                             )                                                                 \n",
            "                                                                                                  \n",
            " conv2_block1_2_conv (Conv2D)   (None, 128, 128, 64  36928       ['conv2_block1_1_relu[0][0]']    \n",
            "                                )                                                                 \n",
            "                                                                                                  \n",
            " conv2_block1_2_bn (BatchNormal  (None, 128, 128, 64  256        ['conv2_block1_2_conv[0][0]']    \n",
            " ization)                       )                                                                 \n",
            "                                                                                                  \n",
            " conv2_block1_2_relu (Activatio  (None, 128, 128, 64  0          ['conv2_block1_2_bn[0][0]']      \n",
            " n)                             )                                                                 \n",
            "                                                                                                  \n",
            " conv2_block1_0_conv (Conv2D)   (None, 128, 128, 25  16640       ['pool1_pool[0][0]']             \n",
            "                                6)                                                                \n",
            "                                                                                                  \n",
            " conv2_block1_3_conv (Conv2D)   (None, 128, 128, 25  16640       ['conv2_block1_2_relu[0][0]']    \n",
            "                                6)                                                                \n",
            "                                                                                                  \n",
            " conv2_block1_0_bn (BatchNormal  (None, 128, 128, 25  1024       ['conv2_block1_0_conv[0][0]']    \n",
            " ization)                       6)                                                                \n",
            "                                                                                                  \n",
            " conv2_block1_3_bn (BatchNormal  (None, 128, 128, 25  1024       ['conv2_block1_3_conv[0][0]']    \n",
            " ization)                       6)                                                                \n",
            "                                                                                                  \n",
            " conv2_block1_add (Add)         (None, 128, 128, 25  0           ['conv2_block1_0_bn[0][0]',      \n",
            "                                6)                                'conv2_block1_3_bn[0][0]']      \n",
            "                                                                                                  \n",
            " conv2_block1_out (Activation)  (None, 128, 128, 25  0           ['conv2_block1_add[0][0]']       \n",
            "                                6)                                                                \n",
            "                                                                                                  \n",
            " conv2_block2_1_conv (Conv2D)   (None, 128, 128, 64  16448       ['conv2_block1_out[0][0]']       \n",
            "                                )                                                                 \n",
            "                                                                                                  \n",
            " conv2_block2_1_bn (BatchNormal  (None, 128, 128, 64  256        ['conv2_block2_1_conv[0][0]']    \n",
            " ization)                       )                                                                 \n",
            "                                                                                                  \n",
            " conv2_block2_1_relu (Activatio  (None, 128, 128, 64  0          ['conv2_block2_1_bn[0][0]']      \n",
            " n)                             )                                                                 \n",
            "                                                                                                  \n",
            " conv2_block2_2_conv (Conv2D)   (None, 128, 128, 64  36928       ['conv2_block2_1_relu[0][0]']    \n",
            "                                )                                                                 \n",
            "                                                                                                  \n",
            " conv2_block2_2_bn (BatchNormal  (None, 128, 128, 64  256        ['conv2_block2_2_conv[0][0]']    \n",
            " ization)                       )                                                                 \n",
            "                                                                                                  \n",
            " conv2_block2_2_relu (Activatio  (None, 128, 128, 64  0          ['conv2_block2_2_bn[0][0]']      \n",
            " n)                             )                                                                 \n",
            "                                                                                                  \n",
            " conv2_block2_3_conv (Conv2D)   (None, 128, 128, 25  16640       ['conv2_block2_2_relu[0][0]']    \n",
            "                                6)                                                                \n",
            "                                                                                                  \n",
            " conv2_block2_3_bn (BatchNormal  (None, 128, 128, 25  1024       ['conv2_block2_3_conv[0][0]']    \n",
            " ization)                       6)                                                                \n",
            "                                                                                                  \n",
            " conv2_block2_add (Add)         (None, 128, 128, 25  0           ['conv2_block1_out[0][0]',       \n",
            "                                6)                                'conv2_block2_3_bn[0][0]']      \n",
            "                                                                                                  \n",
            " conv2_block2_out (Activation)  (None, 128, 128, 25  0           ['conv2_block2_add[0][0]']       \n",
            "                                6)                                                                \n",
            "                                                                                                  \n",
            " conv2_block3_1_conv (Conv2D)   (None, 128, 128, 64  16448       ['conv2_block2_out[0][0]']       \n",
            "                                )                                                                 \n",
            "                                                                                                  \n",
            " conv2_block3_1_bn (BatchNormal  (None, 128, 128, 64  256        ['conv2_block3_1_conv[0][0]']    \n",
            " ization)                       )                                                                 \n",
            "                                                                                                  \n",
            " conv2_block3_1_relu (Activatio  (None, 128, 128, 64  0          ['conv2_block3_1_bn[0][0]']      \n",
            " n)                             )                                                                 \n",
            "                                                                                                  \n",
            " conv2_block3_2_conv (Conv2D)   (None, 128, 128, 64  36928       ['conv2_block3_1_relu[0][0]']    \n",
            "                                )                                                                 \n",
            "                                                                                                  \n",
            " conv2_block3_2_bn (BatchNormal  (None, 128, 128, 64  256        ['conv2_block3_2_conv[0][0]']    \n",
            " ization)                       )                                                                 \n",
            "                                                                                                  \n",
            " conv2_block3_2_relu (Activatio  (None, 128, 128, 64  0          ['conv2_block3_2_bn[0][0]']      \n",
            " n)                             )                                                                 \n",
            "                                                                                                  \n",
            " conv2_block3_3_conv (Conv2D)   (None, 128, 128, 25  16640       ['conv2_block3_2_relu[0][0]']    \n",
            "                                6)                                                                \n",
            "                                                                                                  \n",
            " conv2_block3_3_bn (BatchNormal  (None, 128, 128, 25  1024       ['conv2_block3_3_conv[0][0]']    \n",
            " ization)                       6)                                                                \n",
            "                                                                                                  \n",
            " conv2_block3_add (Add)         (None, 128, 128, 25  0           ['conv2_block2_out[0][0]',       \n",
            "                                6)                                'conv2_block3_3_bn[0][0]']      \n",
            "                                                                                                  \n",
            " conv2_block3_out (Activation)  (None, 128, 128, 25  0           ['conv2_block3_add[0][0]']       \n",
            "                                6)                                                                \n",
            "                                                                                                  \n",
            " conv3_block1_1_conv (Conv2D)   (None, 64, 64, 128)  32896       ['conv2_block3_out[0][0]']       \n",
            "                                                                                                  \n",
            " conv3_block1_1_bn (BatchNormal  (None, 64, 64, 128)  512        ['conv3_block1_1_conv[0][0]']    \n",
            " ization)                                                                                         \n",
            "                                                                                                  \n",
            " conv3_block1_1_relu (Activatio  (None, 64, 64, 128)  0          ['conv3_block1_1_bn[0][0]']      \n",
            " n)                                                                                               \n",
            "                                                                                                  \n",
            " conv3_block1_2_conv (Conv2D)   (None, 64, 64, 128)  147584      ['conv3_block1_1_relu[0][0]']    \n",
            "                                                                                                  \n",
            " conv3_block1_2_bn (BatchNormal  (None, 64, 64, 128)  512        ['conv3_block1_2_conv[0][0]']    \n",
            " ization)                                                                                         \n",
            "                                                                                                  \n",
            " conv3_block1_2_relu (Activatio  (None, 64, 64, 128)  0          ['conv3_block1_2_bn[0][0]']      \n",
            " n)                                                                                               \n",
            "                                                                                                  \n",
            " conv3_block1_0_conv (Conv2D)   (None, 64, 64, 512)  131584      ['conv2_block3_out[0][0]']       \n",
            "                                                                                                  \n",
            " conv3_block1_3_conv (Conv2D)   (None, 64, 64, 512)  66048       ['conv3_block1_2_relu[0][0]']    \n",
            "                                                                                                  \n",
            " conv3_block1_0_bn (BatchNormal  (None, 64, 64, 512)  2048       ['conv3_block1_0_conv[0][0]']    \n",
            " ization)                                                                                         \n",
            "                                                                                                  \n",
            " conv3_block1_3_bn (BatchNormal  (None, 64, 64, 512)  2048       ['conv3_block1_3_conv[0][0]']    \n",
            " ization)                                                                                         \n",
            "                                                                                                  \n",
            " conv3_block1_add (Add)         (None, 64, 64, 512)  0           ['conv3_block1_0_bn[0][0]',      \n",
            "                                                                  'conv3_block1_3_bn[0][0]']      \n",
            "                                                                                                  \n",
            " conv3_block1_out (Activation)  (None, 64, 64, 512)  0           ['conv3_block1_add[0][0]']       \n",
            "                                                                                                  \n",
            " conv3_block2_1_conv (Conv2D)   (None, 64, 64, 128)  65664       ['conv3_block1_out[0][0]']       \n",
            "                                                                                                  \n",
            " conv3_block2_1_bn (BatchNormal  (None, 64, 64, 128)  512        ['conv3_block2_1_conv[0][0]']    \n",
            " ization)                                                                                         \n",
            "                                                                                                  \n",
            " conv3_block2_1_relu (Activatio  (None, 64, 64, 128)  0          ['conv3_block2_1_bn[0][0]']      \n",
            " n)                                                                                               \n",
            "                                                                                                  \n",
            " conv3_block2_2_conv (Conv2D)   (None, 64, 64, 128)  147584      ['conv3_block2_1_relu[0][0]']    \n",
            "                                                                                                  \n",
            " conv3_block2_2_bn (BatchNormal  (None, 64, 64, 128)  512        ['conv3_block2_2_conv[0][0]']    \n",
            " ization)                                                                                         \n",
            "                                                                                                  \n",
            " conv3_block2_2_relu (Activatio  (None, 64, 64, 128)  0          ['conv3_block2_2_bn[0][0]']      \n",
            " n)                                                                                               \n",
            "                                                                                                  \n",
            " conv3_block2_3_conv (Conv2D)   (None, 64, 64, 512)  66048       ['conv3_block2_2_relu[0][0]']    \n",
            "                                                                                                  \n",
            " conv3_block2_3_bn (BatchNormal  (None, 64, 64, 512)  2048       ['conv3_block2_3_conv[0][0]']    \n",
            " ization)                                                                                         \n",
            "                                                                                                  \n",
            " conv3_block2_add (Add)         (None, 64, 64, 512)  0           ['conv3_block1_out[0][0]',       \n",
            "                                                                  'conv3_block2_3_bn[0][0]']      \n",
            "                                                                                                  \n",
            " conv3_block2_out (Activation)  (None, 64, 64, 512)  0           ['conv3_block2_add[0][0]']       \n",
            "                                                                                                  \n",
            " conv3_block3_1_conv (Conv2D)   (None, 64, 64, 128)  65664       ['conv3_block2_out[0][0]']       \n",
            "                                                                                                  \n",
            " conv3_block3_1_bn (BatchNormal  (None, 64, 64, 128)  512        ['conv3_block3_1_conv[0][0]']    \n",
            " ization)                                                                                         \n",
            "                                                                                                  \n",
            " conv3_block3_1_relu (Activatio  (None, 64, 64, 128)  0          ['conv3_block3_1_bn[0][0]']      \n",
            " n)                                                                                               \n",
            "                                                                                                  \n",
            " conv3_block3_2_conv (Conv2D)   (None, 64, 64, 128)  147584      ['conv3_block3_1_relu[0][0]']    \n",
            "                                                                                                  \n",
            " conv3_block3_2_bn (BatchNormal  (None, 64, 64, 128)  512        ['conv3_block3_2_conv[0][0]']    \n",
            " ization)                                                                                         \n",
            "                                                                                                  \n",
            " conv3_block3_2_relu (Activatio  (None, 64, 64, 128)  0          ['conv3_block3_2_bn[0][0]']      \n",
            " n)                                                                                               \n",
            "                                                                                                  \n",
            " conv3_block3_3_conv (Conv2D)   (None, 64, 64, 512)  66048       ['conv3_block3_2_relu[0][0]']    \n",
            "                                                                                                  \n",
            " conv3_block3_3_bn (BatchNormal  (None, 64, 64, 512)  2048       ['conv3_block3_3_conv[0][0]']    \n",
            " ization)                                                                                         \n",
            "                                                                                                  \n",
            " conv3_block3_add (Add)         (None, 64, 64, 512)  0           ['conv3_block2_out[0][0]',       \n",
            "                                                                  'conv3_block3_3_bn[0][0]']      \n",
            "                                                                                                  \n",
            " conv3_block3_out (Activation)  (None, 64, 64, 512)  0           ['conv3_block3_add[0][0]']       \n",
            "                                                                                                  \n",
            " conv3_block4_1_conv (Conv2D)   (None, 64, 64, 128)  65664       ['conv3_block3_out[0][0]']       \n",
            "                                                                                                  \n",
            " conv3_block4_1_bn (BatchNormal  (None, 64, 64, 128)  512        ['conv3_block4_1_conv[0][0]']    \n",
            " ization)                                                                                         \n",
            "                                                                                                  \n",
            " conv3_block4_1_relu (Activatio  (None, 64, 64, 128)  0          ['conv3_block4_1_bn[0][0]']      \n",
            " n)                                                                                               \n",
            "                                                                                                  \n",
            " conv3_block4_2_conv (Conv2D)   (None, 64, 64, 128)  147584      ['conv3_block4_1_relu[0][0]']    \n",
            "                                                                                                  \n",
            " conv3_block4_2_bn (BatchNormal  (None, 64, 64, 128)  512        ['conv3_block4_2_conv[0][0]']    \n",
            " ization)                                                                                         \n",
            "                                                                                                  \n",
            " conv3_block4_2_relu (Activatio  (None, 64, 64, 128)  0          ['conv3_block4_2_bn[0][0]']      \n",
            " n)                                                                                               \n",
            "                                                                                                  \n",
            " conv3_block4_3_conv (Conv2D)   (None, 64, 64, 512)  66048       ['conv3_block4_2_relu[0][0]']    \n",
            "                                                                                                  \n",
            " conv3_block4_3_bn (BatchNormal  (None, 64, 64, 512)  2048       ['conv3_block4_3_conv[0][0]']    \n",
            " ization)                                                                                         \n",
            "                                                                                                  \n",
            " conv3_block4_add (Add)         (None, 64, 64, 512)  0           ['conv3_block3_out[0][0]',       \n",
            "                                                                  'conv3_block4_3_bn[0][0]']      \n",
            "                                                                                                  \n",
            " conv3_block4_out (Activation)  (None, 64, 64, 512)  0           ['conv3_block4_add[0][0]']       \n",
            "                                                                                                  \n",
            " conv4_block1_1_conv (Conv2D)   (None, 32, 32, 256)  131328      ['conv3_block4_out[0][0]']       \n",
            "                                                                                                  \n",
            " conv4_block1_1_bn (BatchNormal  (None, 32, 32, 256)  1024       ['conv4_block1_1_conv[0][0]']    \n",
            " ization)                                                                                         \n",
            "                                                                                                  \n",
            " conv4_block1_1_relu (Activatio  (None, 32, 32, 256)  0          ['conv4_block1_1_bn[0][0]']      \n",
            " n)                                                                                               \n",
            "                                                                                                  \n",
            " conv4_block1_2_conv (Conv2D)   (None, 32, 32, 256)  590080      ['conv4_block1_1_relu[0][0]']    \n",
            "                                                                                                  \n",
            " conv4_block1_2_bn (BatchNormal  (None, 32, 32, 256)  1024       ['conv4_block1_2_conv[0][0]']    \n",
            " ization)                                                                                         \n",
            "                                                                                                  \n",
            " conv4_block1_2_relu (Activatio  (None, 32, 32, 256)  0          ['conv4_block1_2_bn[0][0]']      \n",
            " n)                                                                                               \n",
            "                                                                                                  \n",
            " conv4_block1_0_conv (Conv2D)   (None, 32, 32, 1024  525312      ['conv3_block4_out[0][0]']       \n",
            "                                )                                                                 \n",
            "                                                                                                  \n",
            " conv4_block1_3_conv (Conv2D)   (None, 32, 32, 1024  263168      ['conv4_block1_2_relu[0][0]']    \n",
            "                                )                                                                 \n",
            "                                                                                                  \n",
            " conv4_block1_0_bn (BatchNormal  (None, 32, 32, 1024  4096       ['conv4_block1_0_conv[0][0]']    \n",
            " ization)                       )                                                                 \n",
            "                                                                                                  \n",
            " conv4_block1_3_bn (BatchNormal  (None, 32, 32, 1024  4096       ['conv4_block1_3_conv[0][0]']    \n",
            " ization)                       )                                                                 \n",
            "                                                                                                  \n",
            " conv4_block1_add (Add)         (None, 32, 32, 1024  0           ['conv4_block1_0_bn[0][0]',      \n",
            "                                )                                 'conv4_block1_3_bn[0][0]']      \n",
            "                                                                                                  \n",
            " conv4_block1_out (Activation)  (None, 32, 32, 1024  0           ['conv4_block1_add[0][0]']       \n",
            "                                )                                                                 \n",
            "                                                                                                  \n",
            " conv4_block2_1_conv (Conv2D)   (None, 32, 32, 256)  262400      ['conv4_block1_out[0][0]']       \n",
            "                                                                                                  \n",
            " conv4_block2_1_bn (BatchNormal  (None, 32, 32, 256)  1024       ['conv4_block2_1_conv[0][0]']    \n",
            " ization)                                                                                         \n",
            "                                                                                                  \n",
            " conv4_block2_1_relu (Activatio  (None, 32, 32, 256)  0          ['conv4_block2_1_bn[0][0]']      \n",
            " n)                                                                                               \n",
            "                                                                                                  \n",
            " conv4_block2_2_conv (Conv2D)   (None, 32, 32, 256)  590080      ['conv4_block2_1_relu[0][0]']    \n",
            "                                                                                                  \n",
            " conv4_block2_2_bn (BatchNormal  (None, 32, 32, 256)  1024       ['conv4_block2_2_conv[0][0]']    \n",
            " ization)                                                                                         \n",
            "                                                                                                  \n",
            " conv4_block2_2_relu (Activatio  (None, 32, 32, 256)  0          ['conv4_block2_2_bn[0][0]']      \n",
            " n)                                                                                               \n",
            "                                                                                                  \n",
            " conv4_block2_3_conv (Conv2D)   (None, 32, 32, 1024  263168      ['conv4_block2_2_relu[0][0]']    \n",
            "                                )                                                                 \n",
            "                                                                                                  \n",
            " conv4_block2_3_bn (BatchNormal  (None, 32, 32, 1024  4096       ['conv4_block2_3_conv[0][0]']    \n",
            " ization)                       )                                                                 \n",
            "                                                                                                  \n",
            " conv4_block2_add (Add)         (None, 32, 32, 1024  0           ['conv4_block1_out[0][0]',       \n",
            "                                )                                 'conv4_block2_3_bn[0][0]']      \n",
            "                                                                                                  \n",
            " conv4_block2_out (Activation)  (None, 32, 32, 1024  0           ['conv4_block2_add[0][0]']       \n",
            "                                )                                                                 \n",
            "                                                                                                  \n",
            " conv4_block3_1_conv (Conv2D)   (None, 32, 32, 256)  262400      ['conv4_block2_out[0][0]']       \n",
            "                                                                                                  \n",
            " conv4_block3_1_bn (BatchNormal  (None, 32, 32, 256)  1024       ['conv4_block3_1_conv[0][0]']    \n",
            " ization)                                                                                         \n",
            "                                                                                                  \n",
            " conv4_block3_1_relu (Activatio  (None, 32, 32, 256)  0          ['conv4_block3_1_bn[0][0]']      \n",
            " n)                                                                                               \n",
            "                                                                                                  \n",
            " conv4_block3_2_conv (Conv2D)   (None, 32, 32, 256)  590080      ['conv4_block3_1_relu[0][0]']    \n",
            "                                                                                                  \n",
            " conv4_block3_2_bn (BatchNormal  (None, 32, 32, 256)  1024       ['conv4_block3_2_conv[0][0]']    \n",
            " ization)                                                                                         \n",
            "                                                                                                  \n",
            " conv4_block3_2_relu (Activatio  (None, 32, 32, 256)  0          ['conv4_block3_2_bn[0][0]']      \n",
            " n)                                                                                               \n",
            "                                                                                                  \n",
            " conv4_block3_3_conv (Conv2D)   (None, 32, 32, 1024  263168      ['conv4_block3_2_relu[0][0]']    \n",
            "                                )                                                                 \n",
            "                                                                                                  \n",
            " conv4_block3_3_bn (BatchNormal  (None, 32, 32, 1024  4096       ['conv4_block3_3_conv[0][0]']    \n",
            " ization)                       )                                                                 \n",
            "                                                                                                  \n",
            " conv4_block3_add (Add)         (None, 32, 32, 1024  0           ['conv4_block2_out[0][0]',       \n",
            "                                )                                 'conv4_block3_3_bn[0][0]']      \n",
            "                                                                                                  \n",
            " conv4_block3_out (Activation)  (None, 32, 32, 1024  0           ['conv4_block3_add[0][0]']       \n",
            "                                )                                                                 \n",
            "                                                                                                  \n",
            " conv4_block4_1_conv (Conv2D)   (None, 32, 32, 256)  262400      ['conv4_block3_out[0][0]']       \n",
            "                                                                                                  \n",
            " conv4_block4_1_bn (BatchNormal  (None, 32, 32, 256)  1024       ['conv4_block4_1_conv[0][0]']    \n",
            " ization)                                                                                         \n",
            "                                                                                                  \n",
            " conv4_block4_1_relu (Activatio  (None, 32, 32, 256)  0          ['conv4_block4_1_bn[0][0]']      \n",
            " n)                                                                                               \n",
            "                                                                                                  \n",
            " conv4_block4_2_conv (Conv2D)   (None, 32, 32, 256)  590080      ['conv4_block4_1_relu[0][0]']    \n",
            "                                                                                                  \n",
            " conv4_block4_2_bn (BatchNormal  (None, 32, 32, 256)  1024       ['conv4_block4_2_conv[0][0]']    \n",
            " ization)                                                                                         \n",
            "                                                                                                  \n",
            " conv4_block4_2_relu (Activatio  (None, 32, 32, 256)  0          ['conv4_block4_2_bn[0][0]']      \n",
            " n)                                                                                               \n",
            "                                                                                                  \n",
            " conv4_block4_3_conv (Conv2D)   (None, 32, 32, 1024  263168      ['conv4_block4_2_relu[0][0]']    \n",
            "                                )                                                                 \n",
            "                                                                                                  \n",
            " conv4_block4_3_bn (BatchNormal  (None, 32, 32, 1024  4096       ['conv4_block4_3_conv[0][0]']    \n",
            " ization)                       )                                                                 \n",
            "                                                                                                  \n",
            " conv4_block4_add (Add)         (None, 32, 32, 1024  0           ['conv4_block3_out[0][0]',       \n",
            "                                )                                 'conv4_block4_3_bn[0][0]']      \n",
            "                                                                                                  \n",
            " conv4_block4_out (Activation)  (None, 32, 32, 1024  0           ['conv4_block4_add[0][0]']       \n",
            "                                )                                                                 \n",
            "                                                                                                  \n",
            " conv4_block5_1_conv (Conv2D)   (None, 32, 32, 256)  262400      ['conv4_block4_out[0][0]']       \n",
            "                                                                                                  \n",
            " conv4_block5_1_bn (BatchNormal  (None, 32, 32, 256)  1024       ['conv4_block5_1_conv[0][0]']    \n",
            " ization)                                                                                         \n",
            "                                                                                                  \n",
            " conv4_block5_1_relu (Activatio  (None, 32, 32, 256)  0          ['conv4_block5_1_bn[0][0]']      \n",
            " n)                                                                                               \n",
            "                                                                                                  \n",
            " conv4_block5_2_conv (Conv2D)   (None, 32, 32, 256)  590080      ['conv4_block5_1_relu[0][0]']    \n",
            "                                                                                                  \n",
            " conv4_block5_2_bn (BatchNormal  (None, 32, 32, 256)  1024       ['conv4_block5_2_conv[0][0]']    \n",
            " ization)                                                                                         \n",
            "                                                                                                  \n",
            " conv4_block5_2_relu (Activatio  (None, 32, 32, 256)  0          ['conv4_block5_2_bn[0][0]']      \n",
            " n)                                                                                               \n",
            "                                                                                                  \n",
            " conv4_block5_3_conv (Conv2D)   (None, 32, 32, 1024  263168      ['conv4_block5_2_relu[0][0]']    \n",
            "                                )                                                                 \n",
            "                                                                                                  \n",
            " conv4_block5_3_bn (BatchNormal  (None, 32, 32, 1024  4096       ['conv4_block5_3_conv[0][0]']    \n",
            " ization)                       )                                                                 \n",
            "                                                                                                  \n",
            " conv4_block5_add (Add)         (None, 32, 32, 1024  0           ['conv4_block4_out[0][0]',       \n",
            "                                )                                 'conv4_block5_3_bn[0][0]']      \n",
            "                                                                                                  \n",
            " conv4_block5_out (Activation)  (None, 32, 32, 1024  0           ['conv4_block5_add[0][0]']       \n",
            "                                )                                                                 \n",
            "                                                                                                  \n",
            " conv4_block6_1_conv (Conv2D)   (None, 32, 32, 256)  262400      ['conv4_block5_out[0][0]']       \n",
            "                                                                                                  \n",
            " conv4_block6_1_bn (BatchNormal  (None, 32, 32, 256)  1024       ['conv4_block6_1_conv[0][0]']    \n",
            " ization)                                                                                         \n",
            "                                                                                                  \n",
            " conv4_block6_1_relu (Activatio  (None, 32, 32, 256)  0          ['conv4_block6_1_bn[0][0]']      \n",
            " n)                                                                                               \n",
            "                                                                                                  \n",
            " conv4_block6_2_conv (Conv2D)   (None, 32, 32, 256)  590080      ['conv4_block6_1_relu[0][0]']    \n",
            "                                                                                                  \n",
            " conv4_block6_2_bn (BatchNormal  (None, 32, 32, 256)  1024       ['conv4_block6_2_conv[0][0]']    \n",
            " ization)                                                                                         \n",
            "                                                                                                  \n",
            " conv4_block6_2_relu (Activatio  (None, 32, 32, 256)  0          ['conv4_block6_2_bn[0][0]']      \n",
            " n)                                                                                               \n",
            "                                                                                                  \n",
            " conv4_block6_3_conv (Conv2D)   (None, 32, 32, 1024  263168      ['conv4_block6_2_relu[0][0]']    \n",
            "                                )                                                                 \n",
            "                                                                                                  \n",
            " conv4_block6_3_bn (BatchNormal  (None, 32, 32, 1024  4096       ['conv4_block6_3_conv[0][0]']    \n",
            " ization)                       )                                                                 \n",
            "                                                                                                  \n",
            " conv4_block6_add (Add)         (None, 32, 32, 1024  0           ['conv4_block5_out[0][0]',       \n",
            "                                )                                 'conv4_block6_3_bn[0][0]']      \n",
            "                                                                                                  \n",
            " conv4_block6_out (Activation)  (None, 32, 32, 1024  0           ['conv4_block6_add[0][0]']       \n",
            "                                )                                                                 \n",
            "                                                                                                  \n",
            " conv2d_transpose (Conv2DTransp  (None, 64, 64, 512)  2097664    ['conv4_block6_out[0][0]']       \n",
            " ose)                                                                                             \n",
            "                                                                                                  \n",
            " concatenate_2 (Concatenate)    (None, 64, 64, 1024  0           ['conv2d_transpose[0][0]',       \n",
            "                                )                                 'conv3_block4_out[0][0]']       \n",
            "                                                                                                  \n",
            " conv2d_94 (Conv2D)             (None, 64, 64, 512)  4719104     ['concatenate_2[0][0]']          \n",
            "                                                                                                  \n",
            " batch_normalization_94 (BatchN  (None, 64, 64, 512)  2048       ['conv2d_94[0][0]']              \n",
            " ormalization)                                                                                    \n",
            "                                                                                                  \n",
            " activation_94 (Activation)     (None, 64, 64, 512)  0           ['batch_normalization_94[0][0]'] \n",
            "                                                                                                  \n",
            " conv2d_95 (Conv2D)             (None, 64, 64, 512)  2359808     ['activation_94[0][0]']          \n",
            "                                                                                                  \n",
            " batch_normalization_95 (BatchN  (None, 64, 64, 512)  2048       ['conv2d_95[0][0]']              \n",
            " ormalization)                                                                                    \n",
            "                                                                                                  \n",
            " activation_95 (Activation)     (None, 64, 64, 512)  0           ['batch_normalization_95[0][0]'] \n",
            "                                                                                                  \n",
            " conv2d_transpose_1 (Conv2DTran  (None, 128, 128, 25  524544     ['activation_95[0][0]']          \n",
            " spose)                         6)                                                                \n",
            "                                                                                                  \n",
            " concatenate_3 (Concatenate)    (None, 128, 128, 51  0           ['conv2d_transpose_1[0][0]',     \n",
            "                                2)                                'conv2_block3_out[0][0]']       \n",
            "                                                                                                  \n",
            " conv2d_96 (Conv2D)             (None, 128, 128, 25  1179904     ['concatenate_3[0][0]']          \n",
            "                                6)                                                                \n",
            "                                                                                                  \n",
            " batch_normalization_96 (BatchN  (None, 128, 128, 25  1024       ['conv2d_96[0][0]']              \n",
            " ormalization)                  6)                                                                \n",
            "                                                                                                  \n",
            " activation_96 (Activation)     (None, 128, 128, 25  0           ['batch_normalization_96[0][0]'] \n",
            "                                6)                                                                \n",
            "                                                                                                  \n",
            " conv2d_97 (Conv2D)             (None, 128, 128, 25  590080      ['activation_96[0][0]']          \n",
            "                                6)                                                                \n",
            "                                                                                                  \n",
            " batch_normalization_97 (BatchN  (None, 128, 128, 25  1024       ['conv2d_97[0][0]']              \n",
            " ormalization)                  6)                                                                \n",
            "                                                                                                  \n",
            " activation_97 (Activation)     (None, 128, 128, 25  0           ['batch_normalization_97[0][0]'] \n",
            "                                6)                                                                \n",
            "                                                                                                  \n",
            " conv2d_transpose_2 (Conv2DTran  (None, 256, 256, 12  131200     ['activation_97[0][0]']          \n",
            " spose)                         8)                                                                \n",
            "                                                                                                  \n",
            " concatenate_4 (Concatenate)    (None, 256, 256, 19  0           ['conv2d_transpose_2[0][0]',     \n",
            "                                2)                                'conv1_relu[0][0]']             \n",
            "                                                                                                  \n",
            " conv2d_98 (Conv2D)             (None, 256, 256, 12  221312      ['concatenate_4[0][0]']          \n",
            "                                8)                                                                \n",
            "                                                                                                  \n",
            " batch_normalization_98 (BatchN  (None, 256, 256, 12  512        ['conv2d_98[0][0]']              \n",
            " ormalization)                  8)                                                                \n",
            "                                                                                                  \n",
            " activation_98 (Activation)     (None, 256, 256, 12  0           ['batch_normalization_98[0][0]'] \n",
            "                                8)                                                                \n",
            "                                                                                                  \n",
            " conv2d_99 (Conv2D)             (None, 256, 256, 12  147584      ['activation_98[0][0]']          \n",
            "                                8)                                                                \n",
            "                                                                                                  \n",
            " batch_normalization_99 (BatchN  (None, 256, 256, 12  512        ['conv2d_99[0][0]']              \n",
            " ormalization)                  8)                                                                \n",
            "                                                                                                  \n",
            " activation_99 (Activation)     (None, 256, 256, 12  0           ['batch_normalization_99[0][0]'] \n",
            "                                8)                                                                \n",
            "                                                                                                  \n",
            " conv2d_transpose_3 (Conv2DTran  (None, 512, 512, 64  32832      ['activation_99[0][0]']          \n",
            " spose)                         )                                                                 \n",
            "                                                                                                  \n",
            " concatenate_5 (Concatenate)    (None, 512, 512, 67  0           ['conv2d_transpose_3[0][0]',     \n",
            "                                )                                 'input[0][0]']                  \n",
            "                                                                                                  \n",
            " conv2d_100 (Conv2D)            (None, 512, 512, 64  38656       ['concatenate_5[0][0]']          \n",
            "                                )                                                                 \n",
            "                                                                                                  \n",
            " batch_normalization_100 (Batch  (None, 512, 512, 64  256        ['conv2d_100[0][0]']             \n",
            " Normalization)                 )                                                                 \n",
            "                                                                                                  \n",
            " activation_100 (Activation)    (None, 512, 512, 64  0           ['batch_normalization_100[0][0]']\n",
            "                                )                                                                 \n",
            "                                                                                                  \n",
            " conv2d_101 (Conv2D)            (None, 512, 512, 64  36928       ['activation_100[0][0]']         \n",
            "                                )                                                                 \n",
            "                                                                                                  \n",
            " batch_normalization_101 (Batch  (None, 512, 512, 64  256        ['conv2d_101[0][0]']             \n",
            " Normalization)                 )                                                                 \n",
            "                                                                                                  \n",
            " activation_101 (Activation)    (None, 512, 512, 64  0           ['batch_normalization_101[0][0]']\n",
            "                                )                                                                 \n",
            "                                                                                                  \n",
            " conv2d_102 (Conv2D)            (None, 512, 512, 4)  260         ['activation_101[0][0]']         \n",
            "                                                                                                  \n",
            "==================================================================================================\n",
            "Total params: 20,676,740\n",
            "Trainable params: 12,083,716\n",
            "Non-trainable params: 8,593,024\n",
            "__________________________________________________________________________________________________\n"
          ]
        }
      ],
      "source": [
        "seg_model=segmentation_model((512,512,3))\n",
        "seg_model.summary()"
      ]
    },
    {
      "cell_type": "code",
      "execution_count": 23,
      "id": "fe85de75",
      "metadata": {
        "id": "fe85de75"
      },
      "outputs": [],
      "source": [
        "images=np.load(\"/content/drive/MyDrive/images_medseg.npy\").astype(np.float32)\n",
        "mask=np.load(\"/content/drive/MyDrive/masks_medseg.npy\").astype(np.float32)"
      ]
    },
    {
      "cell_type": "code",
      "execution_count": 25,
      "id": "86d4bdd7",
      "metadata": {
        "id": "86d4bdd7"
      },
      "outputs": [],
      "source": [
        "timage=[]\n",
        "for image in images:\n",
        "    new_image=cv.cvtColor(image,cv.COLOR_GRAY2RGB)\n",
        "    timage.append(new_image)\n",
        "timages=np.array(timage)\n",
        "fimages=cv.normalize(timages,None,0,255,cv.NORM_MINMAX,cv.CV_32F).astype(np.int8)"
      ]
    },
    {
      "cell_type": "code",
      "source": [
        "plt.imshow(fimages[4])"
      ],
      "metadata": {
        "colab": {
          "base_uri": "https://localhost:8080/",
          "height": 304
        },
        "id": "bbC_mLX1roCw",
        "outputId": "078bcfd2-614a-4a69-e4f8-9ae1bdf7beab"
      },
      "id": "bbC_mLX1roCw",
      "execution_count": 26,
      "outputs": [
        {
          "output_type": "stream",
          "name": "stderr",
          "text": [
            "Clipping input data to the valid range for imshow with RGB data ([0..1] for floats or [0..255] for integers).\n"
          ]
        },
        {
          "output_type": "execute_result",
          "data": {
            "text/plain": [
              "<matplotlib.image.AxesImage at 0x7f52bf359a50>"
            ]
          },
          "metadata": {},
          "execution_count": 26
        },
        {
          "output_type": "display_data",
          "data": {
            "text/plain": [
              "<Figure size 432x288 with 1 Axes>"
            ],
            "image/png": "[encoded data removed]"
          },
          "metadata": {
            "needs_background": "light"
          }
        }
      ]
    },
    {
      "cell_type": "code",
      "source": [
        "plt.imshow(fimages[2])"
      ],
      "metadata": {
        "colab": {
          "base_uri": "https://localhost:8080/",
          "height": 304
        },
        "id": "MAdrwSHbuQV6",
        "outputId": "cfcf60d4-776c-45e1-aad4-3beadef8db48"
      },
      "id": "MAdrwSHbuQV6",
      "execution_count": 27,
      "outputs": [
        {
          "output_type": "stream",
          "name": "stderr",
          "text": [
            "Clipping input data to the valid range for imshow with RGB data ([0..1] for floats or [0..255] for integers).\n"
          ]
        },
        {
          "output_type": "execute_result",
          "data": {
            "text/plain": [
              "<matplotlib.image.AxesImage at 0x7f52bf4e4410>"
            ]
          },
          "metadata": {},
          "execution_count": 27
        },
        {
          "output_type": "display_data",
          "data": {
            "text/plain": [
              "<Figure size 432x288 with 1 Axes>"
            ],
            "image/png": "[encoded data removed]"
          },
          "metadata": {
            "needs_background": "light"
          }
        }
      ]
    },
    {
      "cell_type": "code",
      "execution_count": 28,
      "id": "a08d2eb1",
      "metadata": {
        "id": "a08d2eb1"
      },
      "outputs": [],
      "source": [
        "# Run while training only\n",
        "seg_model.compile(optimizer=tf.optimizers.RMSprop(learning_rate=0.14),loss='binary_crossentropy',metrics=[tf.keras.metrics.MeanIoU(num_classes=4)])\n",
        "checkpoint_dir = '/content/drive/MyDrive/training_checkpoints_new'\n",
        "checkpoint_prefix = os.path.join(checkpoint_dir, \"my_ckpt\")\n",
        "callback2=tf.keras.callbacks.ModelCheckpoint(monitor=\"loss\",filepath=checkpoint_prefix,save_weights_only=True)"
      ]
    },
    {
      "cell_type": "code",
      "source": [
        ""
      ],
      "metadata": {
        "id": "djY351hIrfEt"
      },
      "id": "djY351hIrfEt",
      "execution_count": null,
      "outputs": []
    },
    {
      "cell_type": "code",
      "execution_count": null,
      "id": "c87829c6",
      "metadata": {
        "colab": {
          "base_uri": "https://localhost:8080/"
        },
        "id": "c87829c6",
        "outputId": "3a1e5d19-7df2-419d-e426-7048aa759a13"
      },
      "outputs": [
        {
          "output_type": "stream",
          "name": "stdout",
          "text": [
            "Epoch 1/100\n",
            "100/100 [==============================] - 67s 543ms/step - loss: 0.2378 - mean_io_u: 0.3808\n",
            "Epoch 2/100\n",
            "100/100 [==============================] - 54s 536ms/step - loss: 0.1443 - mean_io_u: 0.5075\n",
            "Epoch 3/100\n",
            "100/100 [==============================] - 54s 536ms/step - loss: 0.1194 - mean_io_u: 0.6577\n",
            "Epoch 4/100\n",
            "100/100 [==============================] - 54s 536ms/step - loss: 0.1122 - mean_io_u: 0.6721\n",
            "Epoch 5/100\n",
            "100/100 [==============================] - 53s 535ms/step - loss: 0.1041 - mean_io_u: 0.6790\n",
            "Epoch 6/100\n",
            "100/100 [==============================] - 54s 540ms/step - loss: 0.1020 - mean_io_u: 0.7061\n",
            "Epoch 7/100\n",
            "100/100 [==============================] - 54s 536ms/step - loss: 0.0989 - mean_io_u: 0.7232\n",
            "Epoch 8/100\n",
            "100/100 [==============================] - 54s 535ms/step - loss: 0.0931 - mean_io_u: 0.7268\n",
            "Epoch 9/100\n",
            "100/100 [==============================] - 54s 536ms/step - loss: 0.0916 - mean_io_u: 0.7347\n",
            "Epoch 10/100\n",
            "100/100 [==============================] - 53s 534ms/step - loss: 0.0915 - mean_io_u: 0.7341\n",
            "Epoch 11/100\n",
            "100/100 [==============================] - 54s 539ms/step - loss: 0.0885 - mean_io_u: 0.7407\n",
            "Epoch 12/100\n",
            "100/100 [==============================] - 53s 534ms/step - loss: 0.0859 - mean_io_u: 0.7510\n",
            "Epoch 13/100\n",
            "100/100 [==============================] - 54s 537ms/step - loss: 0.0870 - mean_io_u: 0.7535\n",
            "Epoch 14/100\n",
            "100/100 [==============================] - 54s 540ms/step - loss: 0.0840 - mean_io_u: 0.7544\n",
            "Epoch 15/100\n",
            "100/100 [==============================] - 53s 534ms/step - loss: 0.0855 - mean_io_u: 0.7464\n",
            "Epoch 16/100\n",
            "100/100 [==============================] - 54s 540ms/step - loss: 0.0847 - mean_io_u: 0.7553\n",
            "Epoch 17/100\n",
            "100/100 [==============================] - 53s 535ms/step - loss: 0.0796 - mean_io_u: 0.7601\n",
            "Epoch 18/100\n",
            "100/100 [==============================] - 54s 535ms/step - loss: 0.0788 - mean_io_u: 0.7596\n",
            "Epoch 19/100\n",
            "100/100 [==============================] - 54s 540ms/step - loss: 0.0791 - mean_io_u: 0.7640\n",
            "Epoch 20/100\n",
            "100/100 [==============================] - 53s 534ms/step - loss: 0.0762 - mean_io_u: 0.7577\n",
            "Epoch 21/100\n",
            "100/100 [==============================] - 54s 538ms/step - loss: 0.0744 - mean_io_u: 0.7678\n",
            "Epoch 22/100\n",
            "100/100 [==============================] - 53s 534ms/step - loss: 0.0754 - mean_io_u: 0.7708\n",
            "Epoch 23/100\n",
            "100/100 [==============================] - 53s 535ms/step - loss: 0.0718 - mean_io_u: 0.7710\n",
            "Epoch 24/100\n",
            "100/100 [==============================] - 54s 538ms/step - loss: 0.0739 - mean_io_u: 0.7670\n",
            "Epoch 25/100\n",
            "100/100 [==============================] - 53s 535ms/step - loss: 0.0718 - mean_io_u: 0.7703\n",
            "Epoch 26/100\n",
            "100/100 [==============================] - 54s 538ms/step - loss: 0.0682 - mean_io_u: 0.7737\n",
            "Epoch 27/100\n",
            "100/100 [==============================] - 53s 535ms/step - loss: 0.0701 - mean_io_u: 0.7754\n",
            "Epoch 28/100\n",
            "100/100 [==============================] - 53s 535ms/step - loss: 0.0665 - mean_io_u: 0.7774\n",
            "Epoch 29/100\n",
            "100/100 [==============================] - 54s 539ms/step - loss: 0.0659 - mean_io_u: 0.7819\n",
            "Epoch 30/100\n",
            "100/100 [==============================] - 53s 535ms/step - loss: 0.0676 - mean_io_u: 0.7836\n",
            "Epoch 31/100\n",
            "100/100 [==============================] - 54s 539ms/step - loss: 0.0641 - mean_io_u: 0.7781\n",
            "Epoch 32/100\n",
            "100/100 [==============================] - 53s 535ms/step - loss: 0.0639 - mean_io_u: 0.7826\n",
            "Epoch 33/100\n",
            "100/100 [==============================] - 53s 535ms/step - loss: 0.0625 - mean_io_u: 0.7870\n",
            "Epoch 34/100\n",
            "100/100 [==============================] - 54s 539ms/step - loss: 0.0608 - mean_io_u: 0.7840\n",
            "Epoch 35/100\n",
            "100/100 [==============================] - 53s 535ms/step - loss: 0.0638 - mean_io_u: 0.7834\n",
            "Epoch 36/100\n",
            "100/100 [==============================] - 54s 538ms/step - loss: 0.0616 - mean_io_u: 0.7798\n",
            "Epoch 37/100\n",
            "100/100 [==============================] - 53s 535ms/step - loss: 0.0609 - mean_io_u: 0.7840\n",
            "Epoch 38/100\n",
            "100/100 [==============================] - 53s 534ms/step - loss: 0.0601 - mean_io_u: 0.7898\n",
            "Epoch 39/100\n",
            "100/100 [==============================] - 54s 541ms/step - loss: 0.0612 - mean_io_u: 0.7807\n",
            "Epoch 40/100\n",
            "100/100 [==============================] - 54s 536ms/step - loss: 0.0607 - mean_io_u: 0.7874\n",
            "Epoch 41/100\n",
            "100/100 [==============================] - 54s 540ms/step - loss: 0.0594 - mean_io_u: 0.7865\n",
            "Epoch 42/100\n",
            "100/100 [==============================] - 53s 534ms/step - loss: 0.0588 - mean_io_u: 0.7911\n",
            "Epoch 43/100\n",
            "100/100 [==============================] - 53s 535ms/step - loss: 0.0580 - mean_io_u: 0.7905\n",
            "Epoch 44/100\n",
            "100/100 [==============================] - 54s 540ms/step - loss: 0.0582 - mean_io_u: 0.7876\n",
            "Epoch 45/100\n",
            "100/100 [==============================] - 54s 536ms/step - loss: 0.0569 - mean_io_u: 0.7906\n",
            "Epoch 46/100\n",
            "100/100 [==============================] - 54s 540ms/step - loss: 0.0581 - mean_io_u: 0.7860\n",
            "Epoch 47/100\n",
            "100/100 [==============================] - 53s 535ms/step - loss: 0.0561 - mean_io_u: 0.7927\n",
            "Epoch 48/100\n",
            "100/100 [==============================] - 53s 535ms/step - loss: 0.0562 - mean_io_u: 0.7924\n",
            "Epoch 49/100\n",
            "100/100 [==============================] - 54s 537ms/step - loss: 0.0560 - mean_io_u: 0.7910\n",
            "Epoch 50/100\n",
            "100/100 [==============================] - 53s 534ms/step - loss: 0.0548 - mean_io_u: 0.7915\n",
            "Epoch 51/100\n",
            "100/100 [==============================] - 54s 540ms/step - loss: 0.0552 - mean_io_u: 0.7924\n",
            "Epoch 52/100\n",
            "100/100 [==============================] - 54s 536ms/step - loss: 0.0542 - mean_io_u: 0.7938\n",
            "Epoch 53/100\n",
            "100/100 [==============================] - 53s 535ms/step - loss: 0.0530 - mean_io_u: 0.7926\n",
            "Epoch 54/100\n",
            "100/100 [==============================] - 53s 535ms/step - loss: 0.0527 - mean_io_u: 0.7958\n",
            "Epoch 55/100\n",
            "100/100 [==============================] - 53s 534ms/step - loss: 0.0529 - mean_io_u: 0.7940\n",
            "Epoch 56/100\n",
            "100/100 [==============================] - 54s 539ms/step - loss: 0.0538 - mean_io_u: 0.7894\n",
            "Epoch 57/100\n",
            "100/100 [==============================] - 53s 534ms/step - loss: 0.0520 - mean_io_u: 0.7938\n",
            "Epoch 58/100\n",
            "100/100 [==============================] - 54s 538ms/step - loss: 0.0519 - mean_io_u: 0.7952\n",
            "Epoch 59/100\n",
            "100/100 [==============================] - 53s 534ms/step - loss: 0.0522 - mean_io_u: 0.7940\n",
            "Epoch 60/100\n",
            "100/100 [==============================] - 53s 534ms/step - loss: 0.0519 - mean_io_u: 0.7965\n",
            "Epoch 61/100\n",
            "100/100 [==============================] - 54s 538ms/step - loss: 0.0495 - mean_io_u: 0.7962\n",
            "Epoch 62/100\n",
            "100/100 [==============================] - 54s 535ms/step - loss: 0.0498 - mean_io_u: 0.7993\n",
            "Epoch 63/100\n",
            "100/100 [==============================] - 54s 538ms/step - loss: 0.0508 - mean_io_u: 0.7930\n",
            "Epoch 64/100\n",
            "100/100 [==============================] - 53s 534ms/step - loss: 0.0477 - mean_io_u: 0.7939\n",
            "Epoch 65/100\n",
            "100/100 [==============================] - 53s 534ms/step - loss: 0.0495 - mean_io_u: 0.7928\n",
            "Epoch 66/100\n",
            "100/100 [==============================] - 54s 539ms/step - loss: 0.0483 - mean_io_u: 0.7961\n",
            "Epoch 67/100\n",
            "100/100 [==============================] - 53s 535ms/step - loss: 0.0489 - mean_io_u: 0.7987\n",
            "Epoch 68/100\n",
            "100/100 [==============================] - 54s 540ms/step - loss: 0.0481 - mean_io_u: 0.7951\n",
            "Epoch 69/100\n",
            "100/100 [==============================] - 54s 535ms/step - loss: 0.0481 - mean_io_u: 0.7951\n",
            "Epoch 70/100\n",
            "100/100 [==============================] - 53s 535ms/step - loss: 0.0470 - mean_io_u: 0.7962\n",
            "Epoch 71/100\n",
            "100/100 [==============================] - 54s 540ms/step - loss: 0.0466 - mean_io_u: 0.7967\n",
            "Epoch 72/100\n",
            "100/100 [==============================] - 53s 535ms/step - loss: 0.0470 - mean_io_u: 0.7940\n",
            "Epoch 73/100\n",
            "100/100 [==============================] - 54s 540ms/step - loss: 0.0456 - mean_io_u: 0.7959\n",
            "Epoch 74/100\n",
            "100/100 [==============================] - 54s 536ms/step - loss: 0.0454 - mean_io_u: 0.7941\n",
            "Epoch 75/100\n",
            "100/100 [==============================] - 54s 536ms/step - loss: 0.0455 - mean_io_u: 0.7992\n",
            "Epoch 76/100\n",
            "100/100 [==============================] - 54s 540ms/step - loss: 0.0453 - mean_io_u: 0.8001\n",
            "Epoch 77/100\n",
            "100/100 [==============================] - 53s 534ms/step - loss: 0.0445 - mean_io_u: 0.7959\n",
            "Epoch 78/100\n",
            "100/100 [==============================] - 54s 539ms/step - loss: 0.0446 - mean_io_u: 0.7951\n",
            "Epoch 79/100\n",
            "100/100 [==============================] - 54s 535ms/step - loss: 0.0444 - mean_io_u: 0.7967\n",
            "Epoch 80/100\n",
            "100/100 [==============================] - 54s 536ms/step - loss: 0.0436 - mean_io_u: 0.7998\n",
            "Epoch 81/100\n",
            "100/100 [==============================] - 53s 535ms/step - loss: 0.0431 - mean_io_u: 0.7968\n",
            "Epoch 82/100\n",
            "100/100 [==============================] - 53s 534ms/step - loss: 0.0426 - mean_io_u: 0.8013\n",
            "Epoch 83/100\n",
            "100/100 [==============================] - 54s 541ms/step - loss: 0.0418 - mean_io_u: 0.7977\n",
            "Epoch 84/100\n",
            "100/100 [==============================] - 53s 534ms/step - loss: 0.0428 - mean_io_u: 0.7993\n",
            "Epoch 85/100\n",
            "100/100 [==============================] - 54s 539ms/step - loss: 0.0421 - mean_io_u: 0.8006\n",
            "Epoch 86/100\n",
            "100/100 [==============================] - 54s 535ms/step - loss: 0.0415 - mean_io_u: 0.7991\n",
            "Epoch 87/100\n",
            "100/100 [==============================] - 53s 534ms/step - loss: 0.0398 - mean_io_u: 0.8010\n",
            "Epoch 88/100\n",
            "100/100 [==============================] - 54s 539ms/step - loss: 0.0406 - mean_io_u: 0.7995\n",
            "Epoch 89/100\n",
            "100/100 [==============================] - 53s 534ms/step - loss: 0.0405 - mean_io_u: 0.7971\n",
            "Epoch 90/100\n",
            "100/100 [==============================] - 54s 539ms/step - loss: 0.0401 - mean_io_u: 0.7954\n",
            "Epoch 91/100\n",
            "100/100 [==============================] - 53s 534ms/step - loss: 0.0391 - mean_io_u: 0.7984\n",
            "Epoch 92/100\n",
            "100/100 [==============================] - 53s 535ms/step - loss: 0.0412 - mean_io_u: 0.8015\n",
            "Epoch 93/100\n",
            "100/100 [==============================] - 53s 535ms/step - loss: 0.0388 - mean_io_u: 0.8011\n",
            "Epoch 94/100\n",
            "100/100 [==============================] - 54s 535ms/step - loss: 0.0385 - mean_io_u: 0.7990\n",
            "Epoch 95/100\n",
            "100/100 [==============================] - 54s 540ms/step - loss: 0.0390 - mean_io_u: 0.7990\n",
            "Epoch 96/100\n",
            "100/100 [==============================] - 54s 535ms/step - loss: 0.0394 - mean_io_u: 0.7975\n",
            "Epoch 97/100\n",
            "100/100 [==============================] - 54s 540ms/step - loss: 0.0372 - mean_io_u: 0.7965\n",
            "Epoch 98/100\n",
            "100/100 [==============================] - 54s 535ms/step - loss: 0.0377 - mean_io_u: 0.7987\n",
            "Epoch 99/100\n",
            "100/100 [==============================] - 53s 535ms/step - loss: 0.0376 - mean_io_u: 0.7967\n",
            "Epoch 100/100\n",
            "100/100 [==============================] - 53s 535ms/step - loss: 0.0365 - mean_io_u: 0.8001\n"
          ]
        }
      ],
      "source": [
        "# Run while training only\n",
        "seg_history=seg_model.fit(fimages,mask,batch_size=1,epochs=100,verbose=1,callbacks=[callback2])"
      ]
    },
    {
      "cell_type": "code",
      "execution_count": null,
      "id": "46fa35f5",
      "metadata": {
        "colab": {
          "base_uri": "https://localhost:8080/",
          "height": 312
        },
        "id": "46fa35f5",
        "outputId": "099dba74-fcd4-4594-a8f6-55a6ac0cce37"
      },
      "outputs": [
        {
          "output_type": "stream",
          "name": "stdout",
          "text": [
            "dict_keys(['loss', 'mean_io_u'])\n"
          ]
        },
        {
          "output_type": "display_data",
          "data": {
            "image/png": "[encoded data removed]",
            "text/plain": [
              "<Figure size 432x288 with 2 Axes>"
            ]
          },
          "metadata": {
            "needs_background": "light"
          }
        }
      ],
      "source": [
        "# Run while training only\n",
        "print(seg_history.history.keys())\n",
        "plt.subplot(121)\n",
        "plt.plot(seg_history.history['mean_io_u'])\n",
        "plt.title(\"mean io_u\")\n",
        "plt.ylabel(\"accuracy\")\n",
        "plt.xlabel(\"epoch\")\n",
        "plt.subplot(122)\n",
        "plt.plot(seg_history.history['loss'])\n",
        "plt.title(\"loss\")\n",
        "plt.ylabel(\"loss\")\n",
        "plt.xlabel(\"epoch\")\n",
        "plt.savefig('output.jpg')\n",
        "plt.show()"
      ]
    },
    {
      "cell_type": "code",
      "source": [
        ""
      ],
      "metadata": {
        "id": "8rsllqyvHY4T"
      },
      "id": "8rsllqyvHY4T",
      "execution_count": null,
      "outputs": []
    },
    {
      "cell_type": "markdown",
      "source": [
        "Loading checkpoint"
      ],
      "metadata": {
        "id": "AMdlWyas5L3g"
      },
      "id": "AMdlWyas5L3g"
    },
    {
      "cell_type": "code",
      "execution_count": 29,
      "id": "339a8146",
      "metadata": {
        "id": "339a8146",
        "outputId": "dac50cd8-c697-46ff-e327-6e87a0d36abd",
        "colab": {
          "base_uri": "https://localhost:8080/"
        }
      },
      "outputs": [
        {
          "output_type": "execute_result",
          "data": {
            "text/plain": [
              "<tensorflow.python.training.tracking.util.CheckpointLoadStatus at 0x7f52bf2cbc10>"
            ]
          },
          "metadata": {},
          "execution_count": 29
        }
      ],
      "source": [
        "checkpoint_dir = '/content/drive/MyDrive/training_checkpoints_new/'\n",
        "checkpoint_prefix = os.path.join(checkpoint_dir, \"my_ckpt\")\n",
        "seg_model.load_weights(checkpoint_prefix)"
      ]
    },
    {
      "cell_type": "markdown",
      "source": [
        "Output"
      ],
      "metadata": {
        "id": "beJHQ2TD5TZ9"
      },
      "id": "beJHQ2TD5TZ9"
    },
    {
      "cell_type": "code",
      "source": [
        "image_no=4\n",
        "image=np.array([fimages[image_no]])\n",
        "predseg=seg_model(image)\n",
        "image_predmask=predseg[0]\n",
        "image_actmask=mask[image_no]\n",
        "pred_mask=np.argmax(predseg[0],axis=-1)\n",
        "act_mask=np.argmax(mask[image_no],axis=-1)\n"
      ],
      "metadata": {
        "id": "4RTZRSPA9eZw"
      },
      "id": "4RTZRSPA9eZw",
      "execution_count": 30,
      "outputs": []
    },
    {
      "cell_type": "code",
      "source": [
        "\n",
        "plt.subplot(131);plt.imshow(image[0])\n",
        "plt.subplot(132);plt.imshow(pred_mask,cmap='gray')\n",
        "plt.subplot(133);plt.imshow(act_mask,cmap='gray')"
      ],
      "metadata": {
        "colab": {
          "base_uri": "https://localhost:8080/",
          "height": 185
        },
        "id": "ACRf2tqE9ei_",
        "outputId": "33fd0bc2-7190-4a23-9840-5b59a0ceafcf"
      },
      "id": "ACRf2tqE9ei_",
      "execution_count": 31,
      "outputs": [
        {
          "output_type": "stream",
          "name": "stderr",
          "text": [
            "Clipping input data to the valid range for imshow with RGB data ([0..1] for floats or [0..255] for integers).\n"
          ]
        },
        {
          "output_type": "execute_result",
          "data": {
            "text/plain": [
              "<matplotlib.image.AxesImage at 0x7f52bf1b0550>"
            ]
          },
          "metadata": {},
          "execution_count": 31
        },
        {
          "output_type": "display_data",
          "data": {
            "text/plain": [
              "<Figure size 432x288 with 3 Axes>"
            ],
            "image/png": "[encoded data removed]"
          },
          "metadata": {
            "needs_background": "light"
          }
        }
      ]
    },
    {
      "cell_type": "markdown",
      "source": [
        "Spreading calculation"
      ],
      "metadata": {
        "id": "9AIz0GdV5ZDJ"
      },
      "id": "9AIz0GdV5ZDJ"
    },
    {
      "cell_type": "code",
      "source": [
        "def spreading(image):\n",
        "    carry=np.unique(image,return_counts=True)\n",
        "    dict={0:0,1:0,2:0,3:0}\n",
        "    for i in range(len(carry[0])):\n",
        "        dict[carry[0][i]]=carry[1][i]\n",
        "    return dict[0]*100/(dict[1]+dict[0]+dict[2])"
      ],
      "metadata": {
        "id": "LcX03Ma9zeXg"
      },
      "id": "LcX03Ma9zeXg",
      "execution_count": 33,
      "outputs": []
    },
    {
      "cell_type": "code",
      "source": [
        "spreading(pred_mask),spreading(act_mask)"
      ],
      "metadata": {
        "colab": {
          "base_uri": "https://localhost:8080/"
        },
        "id": "AeUEKXuAvOzf",
        "outputId": "98c5f8ea-bb0d-4ee1-b455-65f7ed38e339"
      },
      "id": "AeUEKXuAvOzf",
      "execution_count": 34,
      "outputs": [
        {
          "output_type": "execute_result",
          "data": {
            "text/plain": [
              "(4.44699827616359, 5.414174355049375)"
            ]
          },
          "metadata": {},
          "execution_count": 34
        }
      ]
    },
    {
      "cell_type": "markdown",
      "source": [
        "Calculating Dice Coefficient"
      ],
      "metadata": {
        "id": "bjZCNdId5dkP"
      },
      "id": "bjZCNdId5dkP"
    },
    {
      "cell_type": "code",
      "source": [
        "def dice(im1, im2):\n",
        "    im1 = np.asarray(im1).astype(np.bool)\n",
        "    im2 = np.asarray(im2).astype(np.bool)\n",
        "\n",
        "    if im1.shape != im2.shape:\n",
        "        raise ValueError(\"Shape mismatch: im1 and im2 must have the same shape.\")\n",
        "\n",
        "    # Compute Dice coefficient\n",
        "    intersection = np.logical_and(im1, im2)\n",
        "\n",
        "    return 2. * intersection.sum() / (im1.sum() + im2.sum())"
      ],
      "metadata": {
        "id": "THV_OSBmzOzo"
      },
      "id": "THV_OSBmzOzo",
      "execution_count": 35,
      "outputs": []
    },
    {
      "cell_type": "code",
      "source": [
        "dice(act_mask, pred_mask)"
      ],
      "metadata": {
        "colab": {
          "base_uri": "https://localhost:8080/"
        },
        "id": "sRrkX9Ra-OHX",
        "outputId": "4e5ab4e9-6477-440d-a586-6386f1c0d5fe"
      },
      "id": "sRrkX9Ra-OHX",
      "execution_count": 36,
      "outputs": [
        {
          "output_type": "stream",
          "name": "stderr",
          "text": [
            "/usr/local/lib/python3.7/dist-packages/ipykernel_launcher.py:2: DeprecationWarning: `np.bool` is a deprecated alias for the builtin `bool`. To silence this warning, use `bool` by itself. Doing this will not modify any behavior and is safe. If you specifically wanted the numpy scalar type, use `np.bool_` here.\n",
            "Deprecated in NumPy 1.20; for more details and guidance: https://numpy.org/devdocs/release/1.20.0-notes.html#deprecations\n",
            "  \n",
            "/usr/local/lib/python3.7/dist-packages/ipykernel_launcher.py:3: DeprecationWarning: `np.bool` is a deprecated alias for the builtin `bool`. To silence this warning, use `bool` by itself. Doing this will not modify any behavior and is safe. If you specifically wanted the numpy scalar type, use `np.bool_` here.\n",
            "Deprecated in NumPy 1.20; for more details and guidance: https://numpy.org/devdocs/release/1.20.0-notes.html#deprecations\n",
            "  This is separate from the ipykernel package so we can avoid doing imports until\n"
          ]
        },
        {
          "output_type": "execute_result",
          "data": {
            "text/plain": [
              "0.9946530325501522"
            ]
          },
          "metadata": {},
          "execution_count": 36
        }
      ]
    },
    {
      "cell_type": "code",
      "source": [
        "ttimages=x_train[0:10]"
      ],
      "metadata": {
        "id": "LRElSPOVABTC"
      },
      "id": "LRElSPOVABTC",
      "execution_count": 37,
      "outputs": []
    },
    {
      "cell_type": "code",
      "source": [
        "test_images=[]\n",
        "for i in ttimages:\n",
        "    s=cv.resize(i,(512,512))\n",
        "    test_images.append(s)\n",
        "test_images[0].shape"
      ],
      "metadata": {
        "id": "aOptLYC2AWny",
        "colab": {
          "base_uri": "https://localhost:8080/"
        },
        "outputId": "c5b3f6ae-4d29-44c7-d847-05c4065ec273"
      },
      "id": "aOptLYC2AWny",
      "execution_count": 38,
      "outputs": [
        {
          "output_type": "execute_result",
          "data": {
            "text/plain": [
              "(512, 512, 3)"
            ]
          },
          "metadata": {},
          "execution_count": 38
        }
      ]
    },
    {
      "cell_type": "code",
      "source": [
        "t_images=np.array(test_images)\n"
      ],
      "metadata": {
        "id": "Im0_4m-D6eQj"
      },
      "id": "Im0_4m-D6eQj",
      "execution_count": 39,
      "outputs": []
    },
    {
      "cell_type": "code",
      "source": [
        "pred_timage=seg_model(t_images)"
      ],
      "metadata": {
        "id": "UThxGyIh6t0h"
      },
      "id": "UThxGyIh6t0h",
      "execution_count": 40,
      "outputs": []
    },
    {
      "cell_type": "code",
      "source": [
        "test_img=pred_timage[0]\n",
        "test_img=np.argmax(test_img,axis=-1)\n",
        "plt.imshow(test_img,cmap='gray')\n"
      ],
      "metadata": {
        "colab": {
          "base_uri": "https://localhost:8080/",
          "height": 286
        },
        "id": "TjXHc4qw74L6",
        "outputId": "42d3ac5c-680c-4af8-c5f9-138710fb554a"
      },
      "id": "TjXHc4qw74L6",
      "execution_count": 41,
      "outputs": [
        {
          "output_type": "execute_result",
          "data": {
            "text/plain": [
              "<matplotlib.image.AxesImage at 0x7f52bf13fa10>"
            ]
          },
          "metadata": {},
          "execution_count": 41
        },
        {
          "output_type": "display_data",
          "data": {
            "text/plain": [
              "<Figure size 432x288 with 1 Axes>"
            ],
            "image/png": "[encoded data removed]"
          },
          "metadata": {
            "needs_background": "light"
          }
        }
      ]
    },
    {
      "cell_type": "code",
      "source": [
        "plt.imshow(x_train[0].astype('uint8'))"
      ],
      "metadata": {
        "colab": {
          "base_uri": "https://localhost:8080/",
          "height": 286
        },
        "id": "-BcyNSZp8cIq",
        "outputId": "ba1fa899-a4e2-48cf-e988-14b7838c5707"
      },
      "id": "-BcyNSZp8cIq",
      "execution_count": 42,
      "outputs": [
        {
          "output_type": "execute_result",
          "data": {
            "text/plain": [
              "<matplotlib.image.AxesImage at 0x7f52bf0677d0>"
            ]
          },
          "metadata": {},
          "execution_count": 42
        },
        {
          "output_type": "display_data",
          "data": {
            "text/plain": [
              "<Figure size 432x288 with 1 Axes>"
            ],
            "image/png": "[encoded data removed]"
          },
          "metadata": {
            "needs_background": "light"
          }
        }
      ]
    },
    {
      "cell_type": "code",
      "source": [
        ""
      ],
      "metadata": {
        "id": "5n4RByMGTdQC"
      },
      "id": "5n4RByMGTdQC",
      "execution_count": null,
      "outputs": []
    }
  ],
  "metadata": {
    "kernelspec": {
      "display_name": "Python 3 (ipykernel)",
      "language": "python",
      "name": "python3"
    },
    "language_info": {
      "codemirror_mode": {
        "name": "ipython",
        "version": 3
      },
      "file_extension": ".py",
      "mimetype": "text/x-python",
      "name": "python",
      "nbconvert_exporter": "python",
      "pygments_lexer": "ipython3",
      "version": "3.9.1"
    },
    "colab": {
      "name": "covid_run.ipynb",
      "provenance": [],
      "collapsed_sections": []
    },
    "accelerator": "GPU"
  },
  "nbformat": 4,
  "nbformat_minor": 5
}